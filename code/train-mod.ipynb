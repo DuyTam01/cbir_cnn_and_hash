{
 "cells": [
  {
   "cell_type": "code",
   "execution_count": 1,
   "id": "45218438",
   "metadata": {
    "execution": {
     "iopub.execute_input": "2023-05-23T14:19:23.188958Z",
     "iopub.status.busy": "2023-05-23T14:19:23.188521Z",
     "iopub.status.idle": "2023-05-23T14:19:31.819372Z",
     "shell.execute_reply": "2023-05-23T14:19:31.818436Z"
    },
    "papermill": {
     "duration": 8.644258,
     "end_time": "2023-05-23T14:19:31.822043",
     "exception": false,
     "start_time": "2023-05-23T14:19:23.177785",
     "status": "completed"
    },
    "tags": []
   },
   "outputs": [
    {
     "name": "stderr",
     "output_type": "stream",
     "text": [
      "/opt/conda/lib/python3.10/site-packages/scipy/__init__.py:146: UserWarning: A NumPy version >=1.16.5 and <1.23.0 is required for this version of SciPy (detected version 1.23.5\n",
      "  warnings.warn(f\"A NumPy version >={np_minversion} and <{np_maxversion}\"\n"
     ]
    }
   ],
   "source": [
    "from sklearn.model_selection import train_test_split\n",
    "import pandas as pd\n",
    "import time\n",
    "# data generator \n",
    "from tensorflow.keras.preprocessing.image import ImageDataGenerator\n",
    "from wandb.keras import WandbCallback\n",
    "import wandb\n",
    "import tensorflow as tf\n",
    "import io"
   ]
  },
  {
   "cell_type": "code",
   "execution_count": 2,
   "id": "dd244d6b",
   "metadata": {
    "execution": {
     "iopub.execute_input": "2023-05-23T14:19:31.837215Z",
     "iopub.status.busy": "2023-05-23T14:19:31.836916Z",
     "iopub.status.idle": "2023-05-23T14:19:31.935478Z",
     "shell.execute_reply": "2023-05-23T14:19:31.934401Z"
    },
    "papermill": {
     "duration": 0.108967,
     "end_time": "2023-05-23T14:19:31.938152",
     "exception": false,
     "start_time": "2023-05-23T14:19:31.829185",
     "status": "completed"
    },
    "tags": []
   },
   "outputs": [],
   "source": [
    "data = pd.read_csv('/kaggle/input/kaggleinputfashion-product-dataset-processed/fashion-product_12.csv')"
   ]
  },
  {
   "cell_type": "code",
   "execution_count": 3,
   "id": "0e167b86",
   "metadata": {
    "execution": {
     "iopub.execute_input": "2023-05-23T14:19:31.953464Z",
     "iopub.status.busy": "2023-05-23T14:19:31.953142Z",
     "iopub.status.idle": "2023-05-23T14:19:31.984633Z",
     "shell.execute_reply": "2023-05-23T14:19:31.983776Z"
    },
    "papermill": {
     "duration": 0.041613,
     "end_time": "2023-05-23T14:19:31.986835",
     "exception": false,
     "start_time": "2023-05-23T14:19:31.945222",
     "status": "completed"
    },
    "tags": []
   },
   "outputs": [
    {
     "data": {
      "text/html": [
       "<div>\n",
       "<style scoped>\n",
       "    .dataframe tbody tr th:only-of-type {\n",
       "        vertical-align: middle;\n",
       "    }\n",
       "\n",
       "    .dataframe tbody tr th {\n",
       "        vertical-align: top;\n",
       "    }\n",
       "\n",
       "    .dataframe thead th {\n",
       "        text-align: right;\n",
       "    }\n",
       "</style>\n",
       "<table border=\"1\" class=\"dataframe\">\n",
       "  <thead>\n",
       "    <tr style=\"text-align: right;\">\n",
       "      <th></th>\n",
       "      <th>id</th>\n",
       "      <th>gender</th>\n",
       "      <th>masterCategory</th>\n",
       "      <th>subCategory</th>\n",
       "      <th>articleType</th>\n",
       "      <th>baseColour</th>\n",
       "      <th>season</th>\n",
       "      <th>year</th>\n",
       "      <th>usage</th>\n",
       "      <th>productDisplayName</th>\n",
       "      <th>filename</th>\n",
       "      <th>link</th>\n",
       "    </tr>\n",
       "  </thead>\n",
       "  <tbody>\n",
       "    <tr>\n",
       "      <th>0</th>\n",
       "      <td>27604</td>\n",
       "      <td>Men</td>\n",
       "      <td>Apparel</td>\n",
       "      <td>Bottomwear</td>\n",
       "      <td>Trousers</td>\n",
       "      <td>Khaki</td>\n",
       "      <td>Summer</td>\n",
       "      <td>2012.0</td>\n",
       "      <td>Casual</td>\n",
       "      <td>Scullers Men  Khaki Trouser</td>\n",
       "      <td>/kaggle/input/fashion-product-images-dataset/f...</td>\n",
       "      <td>http://assets.myntassets.com/v1/images/style/p...</td>\n",
       "    </tr>\n",
       "    <tr>\n",
       "      <th>1</th>\n",
       "      <td>14860</td>\n",
       "      <td>Women</td>\n",
       "      <td>Accessories</td>\n",
       "      <td>Wallets</td>\n",
       "      <td>Wallets</td>\n",
       "      <td>Charcoal</td>\n",
       "      <td>Summer</td>\n",
       "      <td>2011.0</td>\n",
       "      <td>Casual</td>\n",
       "      <td>United Colors of Benetton Women Solid Grey Cha...</td>\n",
       "      <td>/kaggle/input/fashion-product-images-dataset/f...</td>\n",
       "      <td>http://assets.myntassets.com/v1/images/style/p...</td>\n",
       "    </tr>\n",
       "    <tr>\n",
       "      <th>2</th>\n",
       "      <td>38235</td>\n",
       "      <td>Unisex</td>\n",
       "      <td>Accessories</td>\n",
       "      <td>Eyewear</td>\n",
       "      <td>Sunglasses</td>\n",
       "      <td>Brown</td>\n",
       "      <td>Winter</td>\n",
       "      <td>2016.0</td>\n",
       "      <td>Casual</td>\n",
       "      <td>Polaroid Unisex Sunglasses</td>\n",
       "      <td>/kaggle/input/fashion-product-images-dataset/f...</td>\n",
       "      <td>http://assets.myntassets.com/v1/images/style/p...</td>\n",
       "    </tr>\n",
       "    <tr>\n",
       "      <th>3</th>\n",
       "      <td>30095</td>\n",
       "      <td>Men</td>\n",
       "      <td>Accessories</td>\n",
       "      <td>Watches</td>\n",
       "      <td>Watches</td>\n",
       "      <td>Black</td>\n",
       "      <td>Winter</td>\n",
       "      <td>2016.0</td>\n",
       "      <td>Casual</td>\n",
       "      <td>Ed Hardy Men Black and Red Dial Watch</td>\n",
       "      <td>/kaggle/input/fashion-product-images-dataset/f...</td>\n",
       "      <td>http://assets.myntassets.com/v1/images/style/p...</td>\n",
       "    </tr>\n",
       "    <tr>\n",
       "      <th>4</th>\n",
       "      <td>19629</td>\n",
       "      <td>Men</td>\n",
       "      <td>Apparel</td>\n",
       "      <td>Topwear</td>\n",
       "      <td>Tshirts</td>\n",
       "      <td>White</td>\n",
       "      <td>Summer</td>\n",
       "      <td>2011.0</td>\n",
       "      <td>Casual</td>\n",
       "      <td>United Colors of Benetton Men Printed White TS...</td>\n",
       "      <td>/kaggle/input/fashion-product-images-dataset/f...</td>\n",
       "      <td>http://assets.myntassets.com/v1/images/style/p...</td>\n",
       "    </tr>\n",
       "    <tr>\n",
       "      <th>...</th>\n",
       "      <td>...</td>\n",
       "      <td>...</td>\n",
       "      <td>...</td>\n",
       "      <td>...</td>\n",
       "      <td>...</td>\n",
       "      <td>...</td>\n",
       "      <td>...</td>\n",
       "      <td>...</td>\n",
       "      <td>...</td>\n",
       "      <td>...</td>\n",
       "      <td>...</td>\n",
       "      <td>...</td>\n",
       "    </tr>\n",
       "    <tr>\n",
       "      <th>10795</th>\n",
       "      <td>48609</td>\n",
       "      <td>Women</td>\n",
       "      <td>Accessories</td>\n",
       "      <td>Jewellery</td>\n",
       "      <td>Earrings</td>\n",
       "      <td>Silver</td>\n",
       "      <td>Summer</td>\n",
       "      <td>2013.0</td>\n",
       "      <td>Casual</td>\n",
       "      <td>Lucera Women Silver Earrings</td>\n",
       "      <td>/kaggle/input/fashion-product-images-dataset/f...</td>\n",
       "      <td>http://assets.myntassets.com/v1/images/style/p...</td>\n",
       "    </tr>\n",
       "    <tr>\n",
       "      <th>10796</th>\n",
       "      <td>53507</td>\n",
       "      <td>Women</td>\n",
       "      <td>Apparel</td>\n",
       "      <td>Innerwear</td>\n",
       "      <td>Bra</td>\n",
       "      <td>Nude</td>\n",
       "      <td>Winter</td>\n",
       "      <td>2015.0</td>\n",
       "      <td>Casual</td>\n",
       "      <td>Amante Nude-Coloured Full-Coverage Bra BFOM12</td>\n",
       "      <td>/kaggle/input/fashion-product-images-dataset/f...</td>\n",
       "      <td>http://assets.myntassets.com/v1/image/style/pr...</td>\n",
       "    </tr>\n",
       "    <tr>\n",
       "      <th>10797</th>\n",
       "      <td>50636</td>\n",
       "      <td>Men</td>\n",
       "      <td>Apparel</td>\n",
       "      <td>Innerwear</td>\n",
       "      <td>Innerwear Vests</td>\n",
       "      <td>Grey Melange</td>\n",
       "      <td>Winter</td>\n",
       "      <td>2016.0</td>\n",
       "      <td>Casual</td>\n",
       "      <td>Chromozome Men Grey Melange Innerwear Vest</td>\n",
       "      <td>/kaggle/input/fashion-product-images-dataset/f...</td>\n",
       "      <td>http://assets.myntassets.com/v1/images/style/p...</td>\n",
       "    </tr>\n",
       "    <tr>\n",
       "      <th>10798</th>\n",
       "      <td>52647</td>\n",
       "      <td>Women</td>\n",
       "      <td>Accessories</td>\n",
       "      <td>Bags</td>\n",
       "      <td>Handbags</td>\n",
       "      <td>Black</td>\n",
       "      <td>Summer</td>\n",
       "      <td>2012.0</td>\n",
       "      <td>Casual</td>\n",
       "      <td>Mod'acc Women Black Handbag</td>\n",
       "      <td>/kaggle/input/fashion-product-images-dataset/f...</td>\n",
       "      <td>http://assets.myntassets.com/v1/images/style/p...</td>\n",
       "    </tr>\n",
       "    <tr>\n",
       "      <th>10799</th>\n",
       "      <td>11932</td>\n",
       "      <td>Women</td>\n",
       "      <td>Footwear</td>\n",
       "      <td>Shoes</td>\n",
       "      <td>Flats</td>\n",
       "      <td>Black</td>\n",
       "      <td>Winter</td>\n",
       "      <td>2015.0</td>\n",
       "      <td>Casual</td>\n",
       "      <td>Skechers Women Tone Black Sandals</td>\n",
       "      <td>/kaggle/input/fashion-product-images-dataset/f...</td>\n",
       "      <td>http://assets.myntassets.com/v1/images/style/p...</td>\n",
       "    </tr>\n",
       "  </tbody>\n",
       "</table>\n",
       "<p>10800 rows × 12 columns</p>\n",
       "</div>"
      ],
      "text/plain": [
       "          id  gender masterCategory subCategory      articleType  \\\n",
       "0      27604     Men        Apparel  Bottomwear         Trousers   \n",
       "1      14860   Women    Accessories     Wallets          Wallets   \n",
       "2      38235  Unisex    Accessories     Eyewear       Sunglasses   \n",
       "3      30095     Men    Accessories     Watches          Watches   \n",
       "4      19629     Men        Apparel     Topwear          Tshirts   \n",
       "...      ...     ...            ...         ...              ...   \n",
       "10795  48609   Women    Accessories   Jewellery         Earrings   \n",
       "10796  53507   Women        Apparel   Innerwear              Bra   \n",
       "10797  50636     Men        Apparel   Innerwear  Innerwear Vests   \n",
       "10798  52647   Women    Accessories        Bags         Handbags   \n",
       "10799  11932   Women       Footwear       Shoes            Flats   \n",
       "\n",
       "         baseColour  season    year   usage  \\\n",
       "0             Khaki  Summer  2012.0  Casual   \n",
       "1          Charcoal  Summer  2011.0  Casual   \n",
       "2             Brown  Winter  2016.0  Casual   \n",
       "3             Black  Winter  2016.0  Casual   \n",
       "4             White  Summer  2011.0  Casual   \n",
       "...             ...     ...     ...     ...   \n",
       "10795        Silver  Summer  2013.0  Casual   \n",
       "10796          Nude  Winter  2015.0  Casual   \n",
       "10797  Grey Melange  Winter  2016.0  Casual   \n",
       "10798         Black  Summer  2012.0  Casual   \n",
       "10799         Black  Winter  2015.0  Casual   \n",
       "\n",
       "                                      productDisplayName  \\\n",
       "0                            Scullers Men  Khaki Trouser   \n",
       "1      United Colors of Benetton Women Solid Grey Cha...   \n",
       "2                             Polaroid Unisex Sunglasses   \n",
       "3                  Ed Hardy Men Black and Red Dial Watch   \n",
       "4      United Colors of Benetton Men Printed White TS...   \n",
       "...                                                  ...   \n",
       "10795                       Lucera Women Silver Earrings   \n",
       "10796      Amante Nude-Coloured Full-Coverage Bra BFOM12   \n",
       "10797         Chromozome Men Grey Melange Innerwear Vest   \n",
       "10798                        Mod'acc Women Black Handbag   \n",
       "10799                  Skechers Women Tone Black Sandals   \n",
       "\n",
       "                                                filename  \\\n",
       "0      /kaggle/input/fashion-product-images-dataset/f...   \n",
       "1      /kaggle/input/fashion-product-images-dataset/f...   \n",
       "2      /kaggle/input/fashion-product-images-dataset/f...   \n",
       "3      /kaggle/input/fashion-product-images-dataset/f...   \n",
       "4      /kaggle/input/fashion-product-images-dataset/f...   \n",
       "...                                                  ...   \n",
       "10795  /kaggle/input/fashion-product-images-dataset/f...   \n",
       "10796  /kaggle/input/fashion-product-images-dataset/f...   \n",
       "10797  /kaggle/input/fashion-product-images-dataset/f...   \n",
       "10798  /kaggle/input/fashion-product-images-dataset/f...   \n",
       "10799  /kaggle/input/fashion-product-images-dataset/f...   \n",
       "\n",
       "                                                    link  \n",
       "0      http://assets.myntassets.com/v1/images/style/p...  \n",
       "1      http://assets.myntassets.com/v1/images/style/p...  \n",
       "2      http://assets.myntassets.com/v1/images/style/p...  \n",
       "3      http://assets.myntassets.com/v1/images/style/p...  \n",
       "4      http://assets.myntassets.com/v1/images/style/p...  \n",
       "...                                                  ...  \n",
       "10795  http://assets.myntassets.com/v1/images/style/p...  \n",
       "10796  http://assets.myntassets.com/v1/image/style/pr...  \n",
       "10797  http://assets.myntassets.com/v1/images/style/p...  \n",
       "10798  http://assets.myntassets.com/v1/images/style/p...  \n",
       "10799  http://assets.myntassets.com/v1/images/style/p...  \n",
       "\n",
       "[10800 rows x 12 columns]"
      ]
     },
     "execution_count": 3,
     "metadata": {},
     "output_type": "execute_result"
    }
   ],
   "source": [
    "data"
   ]
  },
  {
   "cell_type": "code",
   "execution_count": 4,
   "id": "693dc336",
   "metadata": {
    "execution": {
     "iopub.execute_input": "2023-05-23T14:19:32.005051Z",
     "iopub.status.busy": "2023-05-23T14:19:32.003396Z",
     "iopub.status.idle": "2023-05-23T14:19:32.031160Z",
     "shell.execute_reply": "2023-05-23T14:19:32.030244Z"
    },
    "papermill": {
     "duration": 0.038913,
     "end_time": "2023-05-23T14:19:32.033618",
     "exception": false,
     "start_time": "2023-05-23T14:19:31.994705",
     "status": "completed"
    },
    "tags": []
   },
   "outputs": [],
   "source": [
    "train_df, test_df = train_test_split(data,\\\n",
    "                                     test_size=0.2,\\\n",
    "                                     random_state=42,\\\n",
    "                                     stratify=data['subCategory'])\n",
    "valid_df, test_df = train_test_split(test_df,\\\n",
    "                                      test_size=0.5,\\\n",
    "                                      random_state=42,\\\n",
    "                                      stratify=test_df['subCategory'])"
   ]
  },
  {
   "cell_type": "code",
   "execution_count": 5,
   "id": "8af5461d",
   "metadata": {
    "execution": {
     "iopub.execute_input": "2023-05-23T14:19:32.052436Z",
     "iopub.status.busy": "2023-05-23T14:19:32.050634Z",
     "iopub.status.idle": "2023-05-23T14:19:32.058702Z",
     "shell.execute_reply": "2023-05-23T14:19:32.057894Z"
    },
    "papermill": {
     "duration": 0.019134,
     "end_time": "2023-05-23T14:19:32.060705",
     "exception": false,
     "start_time": "2023-05-23T14:19:32.041571",
     "status": "completed"
    },
    "tags": []
   },
   "outputs": [],
   "source": [
    "train_df = train_df.reset_index(drop=True)\n",
    "valid_df = valid_df.reset_index(drop=True)\n",
    "test_df = test_df.reset_index(drop=True)"
   ]
  },
  {
   "cell_type": "code",
   "execution_count": 6,
   "id": "a2c3f396",
   "metadata": {
    "execution": {
     "iopub.execute_input": "2023-05-23T14:19:32.078404Z",
     "iopub.status.busy": "2023-05-23T14:19:32.077531Z",
     "iopub.status.idle": "2023-05-23T14:19:32.099643Z",
     "shell.execute_reply": "2023-05-23T14:19:32.098446Z"
    },
    "papermill": {
     "duration": 0.034695,
     "end_time": "2023-05-23T14:19:32.102820",
     "exception": false,
     "start_time": "2023-05-23T14:19:32.068125",
     "status": "completed"
    },
    "tags": []
   },
   "outputs": [
    {
     "data": {
      "text/html": [
       "<div>\n",
       "<style scoped>\n",
       "    .dataframe tbody tr th:only-of-type {\n",
       "        vertical-align: middle;\n",
       "    }\n",
       "\n",
       "    .dataframe tbody tr th {\n",
       "        vertical-align: top;\n",
       "    }\n",
       "\n",
       "    .dataframe thead th {\n",
       "        text-align: right;\n",
       "    }\n",
       "</style>\n",
       "<table border=\"1\" class=\"dataframe\">\n",
       "  <thead>\n",
       "    <tr style=\"text-align: right;\">\n",
       "      <th></th>\n",
       "      <th>id</th>\n",
       "      <th>gender</th>\n",
       "      <th>masterCategory</th>\n",
       "      <th>subCategory</th>\n",
       "      <th>articleType</th>\n",
       "      <th>baseColour</th>\n",
       "      <th>season</th>\n",
       "      <th>year</th>\n",
       "      <th>usage</th>\n",
       "      <th>productDisplayName</th>\n",
       "      <th>filename</th>\n",
       "      <th>link</th>\n",
       "    </tr>\n",
       "  </thead>\n",
       "  <tbody>\n",
       "    <tr>\n",
       "      <th>0</th>\n",
       "      <td>2500</td>\n",
       "      <td>Men</td>\n",
       "      <td>Footwear</td>\n",
       "      <td>Shoes</td>\n",
       "      <td>Casual Shoes</td>\n",
       "      <td>Navy Blue</td>\n",
       "      <td>Fall</td>\n",
       "      <td>2010.0</td>\n",
       "      <td>Casual</td>\n",
       "      <td>Numero Uno Men's Casual Navy Blue Canvas Shoe</td>\n",
       "      <td>/kaggle/input/fashion-product-images-dataset/f...</td>\n",
       "      <td>http://assets.myntassets.com/v1/images/style/p...</td>\n",
       "    </tr>\n",
       "    <tr>\n",
       "      <th>1</th>\n",
       "      <td>36308</td>\n",
       "      <td>Unisex</td>\n",
       "      <td>Footwear</td>\n",
       "      <td>Flip Flops</td>\n",
       "      <td>Flip Flops</td>\n",
       "      <td>Yellow</td>\n",
       "      <td>Summer</td>\n",
       "      <td>2012.0</td>\n",
       "      <td>Casual</td>\n",
       "      <td>Strapless Unisex Yellow Flip Flops</td>\n",
       "      <td>/kaggle/input/fashion-product-images-dataset/f...</td>\n",
       "      <td>http://assets.myntassets.com/v1/images/style/p...</td>\n",
       "    </tr>\n",
       "    <tr>\n",
       "      <th>2</th>\n",
       "      <td>54507</td>\n",
       "      <td>Women</td>\n",
       "      <td>Accessories</td>\n",
       "      <td>Bags</td>\n",
       "      <td>Handbags</td>\n",
       "      <td>Pink</td>\n",
       "      <td>Summer</td>\n",
       "      <td>2012.0</td>\n",
       "      <td>Casual</td>\n",
       "      <td>Lino Perros Women Pink Handbag</td>\n",
       "      <td>/kaggle/input/fashion-product-images-dataset/f...</td>\n",
       "      <td>http://assets.myntassets.com/v1/images/style/p...</td>\n",
       "    </tr>\n",
       "    <tr>\n",
       "      <th>3</th>\n",
       "      <td>26809</td>\n",
       "      <td>Men</td>\n",
       "      <td>Apparel</td>\n",
       "      <td>Bottomwear</td>\n",
       "      <td>Trousers</td>\n",
       "      <td>Charcoal</td>\n",
       "      <td>Summer</td>\n",
       "      <td>2013.0</td>\n",
       "      <td>Formal</td>\n",
       "      <td>Arrow Men Charcoal Flat Front Trousers</td>\n",
       "      <td>/kaggle/input/fashion-product-images-dataset/f...</td>\n",
       "      <td>http://assets.myntassets.com/v1/images/style/p...</td>\n",
       "    </tr>\n",
       "    <tr>\n",
       "      <th>4</th>\n",
       "      <td>19271</td>\n",
       "      <td>Men</td>\n",
       "      <td>Accessories</td>\n",
       "      <td>Watches</td>\n",
       "      <td>Watches</td>\n",
       "      <td>Steel</td>\n",
       "      <td>Winter</td>\n",
       "      <td>2016.0</td>\n",
       "      <td>Casual</td>\n",
       "      <td>Guess Men Chase Steel Watch</td>\n",
       "      <td>/kaggle/input/fashion-product-images-dataset/f...</td>\n",
       "      <td>http://assets.myntassets.com/v1/images/style/p...</td>\n",
       "    </tr>\n",
       "    <tr>\n",
       "      <th>...</th>\n",
       "      <td>...</td>\n",
       "      <td>...</td>\n",
       "      <td>...</td>\n",
       "      <td>...</td>\n",
       "      <td>...</td>\n",
       "      <td>...</td>\n",
       "      <td>...</td>\n",
       "      <td>...</td>\n",
       "      <td>...</td>\n",
       "      <td>...</td>\n",
       "      <td>...</td>\n",
       "      <td>...</td>\n",
       "    </tr>\n",
       "    <tr>\n",
       "      <th>8635</th>\n",
       "      <td>44045</td>\n",
       "      <td>Men</td>\n",
       "      <td>Personal Care</td>\n",
       "      <td>Fragrance</td>\n",
       "      <td>Perfume and Body Mist</td>\n",
       "      <td>Red</td>\n",
       "      <td>Spring</td>\n",
       "      <td>2017.0</td>\n",
       "      <td>Casual</td>\n",
       "      <td>Hugo Men Energise Perfume</td>\n",
       "      <td>/kaggle/input/fashion-product-images-dataset/f...</td>\n",
       "      <td>http://assets.myntassets.com/v1/images/style/p...</td>\n",
       "    </tr>\n",
       "    <tr>\n",
       "      <th>8636</th>\n",
       "      <td>43813</td>\n",
       "      <td>Women</td>\n",
       "      <td>Accessories</td>\n",
       "      <td>Jewellery</td>\n",
       "      <td>Earrings</td>\n",
       "      <td>Purple</td>\n",
       "      <td>Summer</td>\n",
       "      <td>2012.0</td>\n",
       "      <td>Casual</td>\n",
       "      <td>Royal Diadem Purple Earrings</td>\n",
       "      <td>/kaggle/input/fashion-product-images-dataset/f...</td>\n",
       "      <td>http://assets.myntassets.com/v1/images/style/p...</td>\n",
       "    </tr>\n",
       "    <tr>\n",
       "      <th>8637</th>\n",
       "      <td>28275</td>\n",
       "      <td>Men</td>\n",
       "      <td>Personal Care</td>\n",
       "      <td>Fragrance</td>\n",
       "      <td>Deodorant</td>\n",
       "      <td>Grey</td>\n",
       "      <td>Spring</td>\n",
       "      <td>2017.0</td>\n",
       "      <td>Casual</td>\n",
       "      <td>United Colors of Benetton Men Deo</td>\n",
       "      <td>/kaggle/input/fashion-product-images-dataset/f...</td>\n",
       "      <td>http://assets.myntassets.com/v1/images/style/p...</td>\n",
       "    </tr>\n",
       "    <tr>\n",
       "      <th>8638</th>\n",
       "      <td>28579</td>\n",
       "      <td>Men</td>\n",
       "      <td>Accessories</td>\n",
       "      <td>Watches</td>\n",
       "      <td>Watches</td>\n",
       "      <td>Black</td>\n",
       "      <td>Winter</td>\n",
       "      <td>2016.0</td>\n",
       "      <td>Casual</td>\n",
       "      <td>ADIDAS Originals Men Black Dial Watch ADH2644</td>\n",
       "      <td>/kaggle/input/fashion-product-images-dataset/f...</td>\n",
       "      <td>http://assets.myntassets.com/v1/images/style/p...</td>\n",
       "    </tr>\n",
       "    <tr>\n",
       "      <th>8639</th>\n",
       "      <td>10280</td>\n",
       "      <td>Women</td>\n",
       "      <td>Footwear</td>\n",
       "      <td>Shoes</td>\n",
       "      <td>Flats</td>\n",
       "      <td>Black</td>\n",
       "      <td>Fall</td>\n",
       "      <td>2012.0</td>\n",
       "      <td>Casual</td>\n",
       "      <td>Clarks Women Prize Club Leather Black Wedges</td>\n",
       "      <td>/kaggle/input/fashion-product-images-dataset/f...</td>\n",
       "      <td>http://assets.myntassets.com/v1/images/style/p...</td>\n",
       "    </tr>\n",
       "  </tbody>\n",
       "</table>\n",
       "<p>8640 rows × 12 columns</p>\n",
       "</div>"
      ],
      "text/plain": [
       "         id  gender masterCategory subCategory            articleType  \\\n",
       "0      2500     Men       Footwear       Shoes           Casual Shoes   \n",
       "1     36308  Unisex       Footwear  Flip Flops             Flip Flops   \n",
       "2     54507   Women    Accessories        Bags               Handbags   \n",
       "3     26809     Men        Apparel  Bottomwear               Trousers   \n",
       "4     19271     Men    Accessories     Watches                Watches   \n",
       "...     ...     ...            ...         ...                    ...   \n",
       "8635  44045     Men  Personal Care   Fragrance  Perfume and Body Mist   \n",
       "8636  43813   Women    Accessories   Jewellery               Earrings   \n",
       "8637  28275     Men  Personal Care   Fragrance              Deodorant   \n",
       "8638  28579     Men    Accessories     Watches                Watches   \n",
       "8639  10280   Women       Footwear       Shoes                  Flats   \n",
       "\n",
       "     baseColour  season    year   usage  \\\n",
       "0     Navy Blue    Fall  2010.0  Casual   \n",
       "1        Yellow  Summer  2012.0  Casual   \n",
       "2          Pink  Summer  2012.0  Casual   \n",
       "3      Charcoal  Summer  2013.0  Formal   \n",
       "4         Steel  Winter  2016.0  Casual   \n",
       "...         ...     ...     ...     ...   \n",
       "8635        Red  Spring  2017.0  Casual   \n",
       "8636     Purple  Summer  2012.0  Casual   \n",
       "8637       Grey  Spring  2017.0  Casual   \n",
       "8638      Black  Winter  2016.0  Casual   \n",
       "8639      Black    Fall  2012.0  Casual   \n",
       "\n",
       "                                 productDisplayName  \\\n",
       "0     Numero Uno Men's Casual Navy Blue Canvas Shoe   \n",
       "1                Strapless Unisex Yellow Flip Flops   \n",
       "2                    Lino Perros Women Pink Handbag   \n",
       "3            Arrow Men Charcoal Flat Front Trousers   \n",
       "4                       Guess Men Chase Steel Watch   \n",
       "...                                             ...   \n",
       "8635                      Hugo Men Energise Perfume   \n",
       "8636                   Royal Diadem Purple Earrings   \n",
       "8637              United Colors of Benetton Men Deo   \n",
       "8638  ADIDAS Originals Men Black Dial Watch ADH2644   \n",
       "8639   Clarks Women Prize Club Leather Black Wedges   \n",
       "\n",
       "                                               filename  \\\n",
       "0     /kaggle/input/fashion-product-images-dataset/f...   \n",
       "1     /kaggle/input/fashion-product-images-dataset/f...   \n",
       "2     /kaggle/input/fashion-product-images-dataset/f...   \n",
       "3     /kaggle/input/fashion-product-images-dataset/f...   \n",
       "4     /kaggle/input/fashion-product-images-dataset/f...   \n",
       "...                                                 ...   \n",
       "8635  /kaggle/input/fashion-product-images-dataset/f...   \n",
       "8636  /kaggle/input/fashion-product-images-dataset/f...   \n",
       "8637  /kaggle/input/fashion-product-images-dataset/f...   \n",
       "8638  /kaggle/input/fashion-product-images-dataset/f...   \n",
       "8639  /kaggle/input/fashion-product-images-dataset/f...   \n",
       "\n",
       "                                                   link  \n",
       "0     http://assets.myntassets.com/v1/images/style/p...  \n",
       "1     http://assets.myntassets.com/v1/images/style/p...  \n",
       "2     http://assets.myntassets.com/v1/images/style/p...  \n",
       "3     http://assets.myntassets.com/v1/images/style/p...  \n",
       "4     http://assets.myntassets.com/v1/images/style/p...  \n",
       "...                                                 ...  \n",
       "8635  http://assets.myntassets.com/v1/images/style/p...  \n",
       "8636  http://assets.myntassets.com/v1/images/style/p...  \n",
       "8637  http://assets.myntassets.com/v1/images/style/p...  \n",
       "8638  http://assets.myntassets.com/v1/images/style/p...  \n",
       "8639  http://assets.myntassets.com/v1/images/style/p...  \n",
       "\n",
       "[8640 rows x 12 columns]"
      ]
     },
     "execution_count": 6,
     "metadata": {},
     "output_type": "execute_result"
    }
   ],
   "source": [
    "train_df"
   ]
  },
  {
   "cell_type": "code",
   "execution_count": 7,
   "id": "3f157524",
   "metadata": {
    "execution": {
     "iopub.execute_input": "2023-05-23T14:19:32.122822Z",
     "iopub.status.busy": "2023-05-23T14:19:32.122021Z",
     "iopub.status.idle": "2023-05-23T14:20:00.762252Z",
     "shell.execute_reply": "2023-05-23T14:20:00.761327Z"
    },
    "papermill": {
     "duration": 28.652517,
     "end_time": "2023-05-23T14:20:00.764579",
     "exception": false,
     "start_time": "2023-05-23T14:19:32.112062",
     "status": "completed"
    },
    "tags": []
   },
   "outputs": [
    {
     "name": "stdout",
     "output_type": "stream",
     "text": [
      "Found 8640 validated image filenames belonging to 12 classes.\n",
      "Found 1080 validated image filenames belonging to 12 classes.\n",
      "Found 1080 validated image filenames belonging to 12 classes.\n"
     ]
    }
   ],
   "source": [
    "datagen = ImageDataGenerator(rescale=1/255.,\n",
    "                            shear_range=0.2,\n",
    "                            zoom_range=0.2,\n",
    "                            horizontal_flip=True,\n",
    "                            rotation_range=20,\n",
    "                            brightness_range=(0.9,1.1))\n",
    "\n",
    "train_generator = datagen.flow_from_dataframe(dataframe=train_df,\n",
    "                                             target_size=(224,224),\n",
    "                                             x_col='filename',\n",
    "                                            y_col='subCategory',\n",
    "                                             class_mode='categorical',\n",
    "                                             batch_size=32,\n",
    "                                             shuffle=True,\n",
    "                                              seed=42)\n",
    "\n",
    "\n",
    "test_datagen = ImageDataGenerator(rescale=1/255.)\n",
    "valid_generator = test_datagen.flow_from_dataframe(dataframe=valid_df,\n",
    "                                             target_size=(224,224),\n",
    "                                             x_col='filename',\n",
    "                                            y_col='subCategory',\n",
    "                                             class_mode='categorical',\n",
    "                                             batch_size=32,\n",
    "                                             shuffle=True,\n",
    "                                              seed=42)\n",
    "\n",
    "test_generator = test_datagen.flow_from_dataframe(\n",
    "    dataframe=test_df,\n",
    "    x_col='filename',\n",
    "    y_col='subCategory',\n",
    "    target_size=(224, 224),\n",
    "    batch_size=32,\n",
    "    class_mode='categorical',\n",
    "    shuffle=True,\n",
    "    seed=42\n",
    ")"
   ]
  },
  {
   "cell_type": "code",
   "execution_count": 8,
   "id": "61579be2",
   "metadata": {
    "execution": {
     "iopub.execute_input": "2023-05-23T14:20:00.782195Z",
     "iopub.status.busy": "2023-05-23T14:20:00.781892Z",
     "iopub.status.idle": "2023-05-23T14:20:00.786086Z",
     "shell.execute_reply": "2023-05-23T14:20:00.785102Z"
    },
    "papermill": {
     "duration": 0.015517,
     "end_time": "2023-05-23T14:20:00.788272",
     "exception": false,
     "start_time": "2023-05-23T14:20:00.772755",
     "status": "completed"
    },
    "tags": []
   },
   "outputs": [],
   "source": [
    "# tmp"
   ]
  },
  {
   "cell_type": "code",
   "execution_count": 9,
   "id": "65a20e8e",
   "metadata": {
    "execution": {
     "iopub.execute_input": "2023-05-23T14:20:00.805670Z",
     "iopub.status.busy": "2023-05-23T14:20:00.804809Z",
     "iopub.status.idle": "2023-05-23T14:20:00.811352Z",
     "shell.execute_reply": "2023-05-23T14:20:00.810549Z"
    },
    "papermill": {
     "duration": 0.017337,
     "end_time": "2023-05-23T14:20:00.813535",
     "exception": false,
     "start_time": "2023-05-23T14:20:00.796198",
     "status": "completed"
    },
    "tags": []
   },
   "outputs": [],
   "source": [
    "from keras.models import Sequential\n",
    "from keras.layers import Conv2D, MaxPooling2D, Dense, Flatten, Dropout, BatchNormalization\n",
    "from tensorflow.keras.applications.vgg19 import VGG19\n",
    "from tensorflow.keras.models import Model\n",
    "from tensorflow.keras.optimizers import Adam"
   ]
  },
  {
   "cell_type": "code",
   "execution_count": 10,
   "id": "6d924f40",
   "metadata": {
    "execution": {
     "iopub.execute_input": "2023-05-23T14:20:00.830526Z",
     "iopub.status.busy": "2023-05-23T14:20:00.829852Z",
     "iopub.status.idle": "2023-05-23T14:20:00.837074Z",
     "shell.execute_reply": "2023-05-23T14:20:00.836128Z"
    },
    "papermill": {
     "duration": 0.01762,
     "end_time": "2023-05-23T14:20:00.838945",
     "exception": false,
     "start_time": "2023-05-23T14:20:00.821325",
     "status": "completed"
    },
    "tags": []
   },
   "outputs": [],
   "source": [
    "def build_model(name, weights_path=None):\n",
    "    base_model = VGG19(weights='imagenet', include_top=False, input_shape=(224, 224, 3))\n",
    "\n",
    "    for layer in base_model.layers:\n",
    "        layer.trainable = False\n",
    "\n",
    "    x = base_model.output\n",
    "    x = Flatten()(x)\n",
    "    x = Dense(4096, activation='leaky_relu')(x)\n",
    "    x = BatchNormalization()(x)\n",
    "    x = Dropout(0.4)(x)\n",
    "    x = Dense(1024, activation='tanh')(x)\n",
    "    x = BatchNormalization()(x)\n",
    "    x = Dropout(0.4)(x)\n",
    "    predictions = Dense(12, activation='softmax')(x)\n",
    "\n",
    "    model = Model(name=name, inputs=base_model.input, outputs=predictions)\n",
    "    if weights_path:\n",
    "        model.load_weights(weights_path)\n",
    "    return model"
   ]
  },
  {
   "cell_type": "code",
   "execution_count": 11,
   "id": "76d6df18",
   "metadata": {
    "execution": {
     "iopub.execute_input": "2023-05-23T14:20:00.855624Z",
     "iopub.status.busy": "2023-05-23T14:20:00.855097Z",
     "iopub.status.idle": "2023-05-23T14:20:06.725641Z",
     "shell.execute_reply": "2023-05-23T14:20:06.724868Z"
    },
    "papermill": {
     "duration": 5.926904,
     "end_time": "2023-05-23T14:20:06.773570",
     "exception": false,
     "start_time": "2023-05-23T14:20:00.846666",
     "status": "completed"
    },
    "tags": []
   },
   "outputs": [
    {
     "name": "stdout",
     "output_type": "stream",
     "text": [
      "Downloading data from https://storage.googleapis.com/tensorflow/keras-applications/vgg19/vgg19_weights_tf_dim_ordering_tf_kernels_notop.h5\n",
      "80134624/80134624 [==============================] - 2s 0us/step\n",
      "Model: \"vgg19_12class-1684851600\"\n",
      "_________________________________________________________________\n",
      " Layer (type)                Output Shape              Param #   \n",
      "=================================================================\n",
      " input_1 (InputLayer)        [(None, 224, 224, 3)]     0         \n",
      "                                                                 \n",
      " block1_conv1 (Conv2D)       (None, 224, 224, 64)      1792      \n",
      "                                                                 \n",
      " block1_conv2 (Conv2D)       (None, 224, 224, 64)      36928     \n",
      "                                                                 \n",
      " block1_pool (MaxPooling2D)  (None, 112, 112, 64)      0         \n",
      "                                                                 \n",
      " block2_conv1 (Conv2D)       (None, 112, 112, 128)     73856     \n",
      "                                                                 \n",
      " block2_conv2 (Conv2D)       (None, 112, 112, 128)     147584    \n",
      "                                                                 \n",
      " block2_pool (MaxPooling2D)  (None, 56, 56, 128)       0         \n",
      "                                                                 \n",
      " block3_conv1 (Conv2D)       (None, 56, 56, 256)       295168    \n",
      "                                                                 \n",
      " block3_conv2 (Conv2D)       (None, 56, 56, 256)       590080    \n",
      "                                                                 \n",
      " block3_conv3 (Conv2D)       (None, 56, 56, 256)       590080    \n",
      "                                                                 \n",
      " block3_conv4 (Conv2D)       (None, 56, 56, 256)       590080    \n",
      "                                                                 \n",
      " block3_pool (MaxPooling2D)  (None, 28, 28, 256)       0         \n",
      "                                                                 \n",
      " block4_conv1 (Conv2D)       (None, 28, 28, 512)       1180160   \n",
      "                                                                 \n",
      " block4_conv2 (Conv2D)       (None, 28, 28, 512)       2359808   \n",
      "                                                                 \n",
      " block4_conv3 (Conv2D)       (None, 28, 28, 512)       2359808   \n",
      "                                                                 \n",
      " block4_conv4 (Conv2D)       (None, 28, 28, 512)       2359808   \n",
      "                                                                 \n",
      " block4_pool (MaxPooling2D)  (None, 14, 14, 512)       0         \n",
      "                                                                 \n",
      " block5_conv1 (Conv2D)       (None, 14, 14, 512)       2359808   \n",
      "                                                                 \n",
      " block5_conv2 (Conv2D)       (None, 14, 14, 512)       2359808   \n",
      "                                                                 \n",
      " block5_conv3 (Conv2D)       (None, 14, 14, 512)       2359808   \n",
      "                                                                 \n",
      " block5_conv4 (Conv2D)       (None, 14, 14, 512)       2359808   \n",
      "                                                                 \n",
      " block5_pool (MaxPooling2D)  (None, 7, 7, 512)         0         \n",
      "                                                                 \n",
      " flatten (Flatten)           (None, 25088)             0         \n",
      "                                                                 \n",
      " dense (Dense)               (None, 4096)              102764544 \n",
      "                                                                 \n",
      " batch_normalization (BatchN  (None, 4096)             16384     \n",
      " ormalization)                                                   \n",
      "                                                                 \n",
      " dropout (Dropout)           (None, 4096)              0         \n",
      "                                                                 \n",
      " dense_1 (Dense)             (None, 1024)              4195328   \n",
      "                                                                 \n",
      " batch_normalization_1 (Batc  (None, 1024)             4096      \n",
      " hNormalization)                                                 \n",
      "                                                                 \n",
      " dropout_1 (Dropout)         (None, 1024)              0         \n",
      "                                                                 \n",
      " dense_2 (Dense)             (None, 12)                12300     \n",
      "                                                                 \n",
      "=================================================================\n",
      "Total params: 127,017,036\n",
      "Trainable params: 106,982,412\n",
      "Non-trainable params: 20,034,624\n",
      "_________________________________________________________________\n"
     ]
    }
   ],
   "source": [
    "NAME = \"vgg19_12class-{}\".format(int(time.time()))\n",
    "model = build_model(NAME)\n",
    "model.summary()"
   ]
  },
  {
   "cell_type": "code",
   "execution_count": 12,
   "id": "3bd98141",
   "metadata": {
    "execution": {
     "iopub.execute_input": "2023-05-23T14:20:06.808348Z",
     "iopub.status.busy": "2023-05-23T14:20:06.808013Z",
     "iopub.status.idle": "2023-05-23T14:20:09.666633Z",
     "shell.execute_reply": "2023-05-23T14:20:09.665185Z"
    },
    "papermill": {
     "duration": 2.878145,
     "end_time": "2023-05-23T14:20:09.668309",
     "exception": true,
     "start_time": "2023-05-23T14:20:06.790164",
     "status": "failed"
    },
    "tags": []
   },
   "outputs": [
    {
     "name": "stderr",
     "output_type": "stream",
     "text": [
      "\u001b[34m\u001b[1mwandb\u001b[0m: Logging into wandb.ai. (Learn how to deploy a W&B server locally: https://wandb.me/wandb-server)\n",
      "\u001b[34m\u001b[1mwandb\u001b[0m: You can find your API key in your browser here: https://wandb.ai/authorize\n",
      "\u001b[34m\u001b[1mwandb\u001b[0m: Paste an API key from your profile and hit enter, or press ctrl+c to quit:"
     ]
    },
    {
     "ename": "StdinNotImplementedError",
     "evalue": "getpass was called, but this frontend does not support input requests.",
     "output_type": "error",
     "traceback": [
      "\u001b[0;31m---------------------------------------------------------------------------\u001b[0m",
      "\u001b[0;31mStdinNotImplementedError\u001b[0m                  Traceback (most recent call last)",
      "Cell \u001b[0;32mIn[12], line 1\u001b[0m\n\u001b[0;32m----> 1\u001b[0m \u001b[43mwandb\u001b[49m\u001b[38;5;241;43m.\u001b[39;49m\u001b[43mlogin\u001b[49m\u001b[43m(\u001b[49m\u001b[43m)\u001b[49m\n",
      "File \u001b[0;32m/opt/conda/lib/python3.10/site-packages/wandb/sdk/wandb_login.py:77\u001b[0m, in \u001b[0;36mlogin\u001b[0;34m(anonymous, key, relogin, host, force, timeout)\u001b[0m\n\u001b[1;32m     75\u001b[0m     \u001b[38;5;28;01mreturn\u001b[39;00m \u001b[38;5;28;01mTrue\u001b[39;00m\n\u001b[1;32m     76\u001b[0m kwargs \u001b[38;5;241m=\u001b[39m \u001b[38;5;28mdict\u001b[39m(\u001b[38;5;28mlocals\u001b[39m())\n\u001b[0;32m---> 77\u001b[0m configured \u001b[38;5;241m=\u001b[39m \u001b[43m_login\u001b[49m\u001b[43m(\u001b[49m\u001b[38;5;241;43m*\u001b[39;49m\u001b[38;5;241;43m*\u001b[39;49m\u001b[43mkwargs\u001b[49m\u001b[43m)\u001b[49m\n\u001b[1;32m     78\u001b[0m \u001b[38;5;28;01mreturn\u001b[39;00m \u001b[38;5;28;01mTrue\u001b[39;00m \u001b[38;5;28;01mif\u001b[39;00m configured \u001b[38;5;28;01melse\u001b[39;00m \u001b[38;5;28;01mFalse\u001b[39;00m\n",
      "File \u001b[0;32m/opt/conda/lib/python3.10/site-packages/wandb/sdk/wandb_login.py:298\u001b[0m, in \u001b[0;36m_login\u001b[0;34m(anonymous, key, relogin, host, force, timeout, _backend, _silent, _disable_warning, _entity)\u001b[0m\n\u001b[1;32m    295\u001b[0m     \u001b[38;5;28;01mreturn\u001b[39;00m logged_in\n\u001b[1;32m    297\u001b[0m \u001b[38;5;28;01mif\u001b[39;00m \u001b[38;5;129;01mnot\u001b[39;00m key:\n\u001b[0;32m--> 298\u001b[0m     \u001b[43mwlogin\u001b[49m\u001b[38;5;241;43m.\u001b[39;49m\u001b[43mprompt_api_key\u001b[49m\u001b[43m(\u001b[49m\u001b[43m)\u001b[49m\n\u001b[1;32m    300\u001b[0m \u001b[38;5;66;03m# make sure login credentials get to the backend\u001b[39;00m\n\u001b[1;32m    301\u001b[0m wlogin\u001b[38;5;241m.\u001b[39mpropogate_login()\n",
      "File \u001b[0;32m/opt/conda/lib/python3.10/site-packages/wandb/sdk/wandb_login.py:221\u001b[0m, in \u001b[0;36m_WandbLogin.prompt_api_key\u001b[0;34m(self)\u001b[0m\n\u001b[1;32m    220\u001b[0m \u001b[38;5;28;01mdef\u001b[39;00m \u001b[38;5;21mprompt_api_key\u001b[39m(\u001b[38;5;28mself\u001b[39m):\n\u001b[0;32m--> 221\u001b[0m     key, status \u001b[38;5;241m=\u001b[39m \u001b[38;5;28;43mself\u001b[39;49m\u001b[38;5;241;43m.\u001b[39;49m\u001b[43m_prompt_api_key\u001b[49m\u001b[43m(\u001b[49m\u001b[43m)\u001b[49m\n\u001b[1;32m    222\u001b[0m     \u001b[38;5;28;01mif\u001b[39;00m status \u001b[38;5;241m==\u001b[39m ApiKeyStatus\u001b[38;5;241m.\u001b[39mNOTTY:\n\u001b[1;32m    223\u001b[0m         directive \u001b[38;5;241m=\u001b[39m (\n\u001b[1;32m    224\u001b[0m             \u001b[38;5;124m\"\u001b[39m\u001b[38;5;124mwandb login [your_api_key]\u001b[39m\u001b[38;5;124m\"\u001b[39m\n\u001b[1;32m    225\u001b[0m             \u001b[38;5;28;01mif\u001b[39;00m \u001b[38;5;28mself\u001b[39m\u001b[38;5;241m.\u001b[39m_settings\u001b[38;5;241m.\u001b[39m_cli_only_mode\n\u001b[1;32m    226\u001b[0m             \u001b[38;5;28;01melse\u001b[39;00m \u001b[38;5;124m\"\u001b[39m\u001b[38;5;124mwandb.login(key=[your_api_key])\u001b[39m\u001b[38;5;124m\"\u001b[39m\n\u001b[1;32m    227\u001b[0m         )\n",
      "File \u001b[0;32m/opt/conda/lib/python3.10/site-packages/wandb/sdk/wandb_login.py:201\u001b[0m, in \u001b[0;36m_WandbLogin._prompt_api_key\u001b[0;34m(self)\u001b[0m\n\u001b[1;32m    199\u001b[0m \u001b[38;5;28;01mwhile\u001b[39;00m \u001b[38;5;28;01mTrue\u001b[39;00m:\n\u001b[1;32m    200\u001b[0m     \u001b[38;5;28;01mtry\u001b[39;00m:\n\u001b[0;32m--> 201\u001b[0m         key \u001b[38;5;241m=\u001b[39m \u001b[43mapikey\u001b[49m\u001b[38;5;241;43m.\u001b[39;49m\u001b[43mprompt_api_key\u001b[49m\u001b[43m(\u001b[49m\n\u001b[1;32m    202\u001b[0m \u001b[43m            \u001b[49m\u001b[38;5;28;43mself\u001b[39;49m\u001b[38;5;241;43m.\u001b[39;49m\u001b[43m_settings\u001b[49m\u001b[43m,\u001b[49m\n\u001b[1;32m    203\u001b[0m \u001b[43m            \u001b[49m\u001b[43mapi\u001b[49m\u001b[38;5;241;43m=\u001b[39;49m\u001b[43mapi\u001b[49m\u001b[43m,\u001b[49m\n\u001b[1;32m    204\u001b[0m \u001b[43m            \u001b[49m\u001b[43mno_offline\u001b[49m\u001b[38;5;241;43m=\u001b[39;49m\u001b[38;5;28;43mself\u001b[39;49m\u001b[38;5;241;43m.\u001b[39;49m\u001b[43m_settings\u001b[49m\u001b[38;5;241;43m.\u001b[39;49m\u001b[43mforce\u001b[49m\u001b[43m \u001b[49m\u001b[38;5;28;43;01mif\u001b[39;49;00m\u001b[43m \u001b[49m\u001b[38;5;28;43mself\u001b[39;49m\u001b[38;5;241;43m.\u001b[39;49m\u001b[43m_settings\u001b[49m\u001b[43m \u001b[49m\u001b[38;5;28;43;01melse\u001b[39;49;00m\u001b[43m \u001b[49m\u001b[38;5;28;43;01mNone\u001b[39;49;00m\u001b[43m,\u001b[49m\n\u001b[1;32m    205\u001b[0m \u001b[43m            \u001b[49m\u001b[43mno_create\u001b[49m\u001b[38;5;241;43m=\u001b[39;49m\u001b[38;5;28;43mself\u001b[39;49m\u001b[38;5;241;43m.\u001b[39;49m\u001b[43m_settings\u001b[49m\u001b[38;5;241;43m.\u001b[39;49m\u001b[43mforce\u001b[49m\u001b[43m \u001b[49m\u001b[38;5;28;43;01mif\u001b[39;49;00m\u001b[43m \u001b[49m\u001b[38;5;28;43mself\u001b[39;49m\u001b[38;5;241;43m.\u001b[39;49m\u001b[43m_settings\u001b[49m\u001b[43m \u001b[49m\u001b[38;5;28;43;01melse\u001b[39;49;00m\u001b[43m \u001b[49m\u001b[38;5;28;43;01mNone\u001b[39;49;00m\u001b[43m,\u001b[49m\n\u001b[1;32m    206\u001b[0m \u001b[43m        \u001b[49m\u001b[43m)\u001b[49m\n\u001b[1;32m    207\u001b[0m     \u001b[38;5;28;01mexcept\u001b[39;00m \u001b[38;5;167;01mValueError\u001b[39;00m \u001b[38;5;28;01mas\u001b[39;00m e:\n\u001b[1;32m    208\u001b[0m         \u001b[38;5;66;03m# invalid key provided, try again\u001b[39;00m\n\u001b[1;32m    209\u001b[0m         wandb\u001b[38;5;241m.\u001b[39mtermerror(e\u001b[38;5;241m.\u001b[39margs[\u001b[38;5;241m0\u001b[39m])\n",
      "File \u001b[0;32m/opt/conda/lib/python3.10/site-packages/wandb/sdk/lib/apikey.py:132\u001b[0m, in \u001b[0;36mprompt_api_key\u001b[0;34m(settings, api, input_callback, browser_callback, no_offline, no_create, local)\u001b[0m\n\u001b[1;32m    126\u001b[0m         wandb\u001b[38;5;241m.\u001b[39mtermlog(\n\u001b[1;32m    127\u001b[0m             \u001b[38;5;124mf\u001b[39m\u001b[38;5;124m\"\u001b[39m\u001b[38;5;124mLogging into \u001b[39m\u001b[38;5;132;01m{\u001b[39;00mhost\u001b[38;5;132;01m}\u001b[39;00m\u001b[38;5;124m. (Learn how to deploy a W&B server locally: \u001b[39m\u001b[38;5;132;01m{\u001b[39;00mwburls\u001b[38;5;241m.\u001b[39mget(\u001b[38;5;124m'\u001b[39m\u001b[38;5;124mwandb_server\u001b[39m\u001b[38;5;124m'\u001b[39m)\u001b[38;5;132;01m}\u001b[39;00m\u001b[38;5;124m)\u001b[39m\u001b[38;5;124m\"\u001b[39m\n\u001b[1;32m    128\u001b[0m         )\n\u001b[1;32m    129\u001b[0m     wandb\u001b[38;5;241m.\u001b[39mtermlog(\n\u001b[1;32m    130\u001b[0m         \u001b[38;5;124mf\u001b[39m\u001b[38;5;124m\"\u001b[39m\u001b[38;5;124mYou can find your API key in your browser here: \u001b[39m\u001b[38;5;132;01m{\u001b[39;00mapp_url\u001b[38;5;132;01m}\u001b[39;00m\u001b[38;5;124m/authorize\u001b[39m\u001b[38;5;124m\"\u001b[39m\n\u001b[1;32m    131\u001b[0m     )\n\u001b[0;32m--> 132\u001b[0m     key \u001b[38;5;241m=\u001b[39m \u001b[43minput_callback\u001b[49m\u001b[43m(\u001b[49m\u001b[43mapi_ask\u001b[49m\u001b[43m)\u001b[49m\u001b[38;5;241m.\u001b[39mstrip()\n\u001b[1;32m    133\u001b[0m write_key(settings, key, api\u001b[38;5;241m=\u001b[39mapi)\n\u001b[1;32m    134\u001b[0m \u001b[38;5;28;01mreturn\u001b[39;00m key\n",
      "File \u001b[0;32m/opt/conda/lib/python3.10/site-packages/click/termui.py:166\u001b[0m, in \u001b[0;36mprompt\u001b[0;34m(text, default, hide_input, confirmation_prompt, type, value_proc, prompt_suffix, show_default, err, show_choices)\u001b[0m\n\u001b[1;32m    164\u001b[0m \u001b[38;5;28;01mwhile\u001b[39;00m \u001b[38;5;28;01mTrue\u001b[39;00m:\n\u001b[1;32m    165\u001b[0m     \u001b[38;5;28;01mwhile\u001b[39;00m \u001b[38;5;28;01mTrue\u001b[39;00m:\n\u001b[0;32m--> 166\u001b[0m         value \u001b[38;5;241m=\u001b[39m \u001b[43mprompt_func\u001b[49m\u001b[43m(\u001b[49m\u001b[43mprompt\u001b[49m\u001b[43m)\u001b[49m\n\u001b[1;32m    167\u001b[0m         \u001b[38;5;28;01mif\u001b[39;00m value:\n\u001b[1;32m    168\u001b[0m             \u001b[38;5;28;01mbreak\u001b[39;00m\n",
      "File \u001b[0;32m/opt/conda/lib/python3.10/site-packages/click/termui.py:142\u001b[0m, in \u001b[0;36mprompt.<locals>.prompt_func\u001b[0;34m(text)\u001b[0m\n\u001b[1;32m    139\u001b[0m     echo(text\u001b[38;5;241m.\u001b[39mrstrip(\u001b[38;5;124m\"\u001b[39m\u001b[38;5;124m \u001b[39m\u001b[38;5;124m\"\u001b[39m), nl\u001b[38;5;241m=\u001b[39m\u001b[38;5;28;01mFalse\u001b[39;00m, err\u001b[38;5;241m=\u001b[39merr)\n\u001b[1;32m    140\u001b[0m     \u001b[38;5;66;03m# Echo a space to stdout to work around an issue where\u001b[39;00m\n\u001b[1;32m    141\u001b[0m     \u001b[38;5;66;03m# readline causes backspace to clear the whole line.\u001b[39;00m\n\u001b[0;32m--> 142\u001b[0m     \u001b[38;5;28;01mreturn\u001b[39;00m \u001b[43mf\u001b[49m\u001b[43m(\u001b[49m\u001b[38;5;124;43m\"\u001b[39;49m\u001b[38;5;124;43m \u001b[39;49m\u001b[38;5;124;43m\"\u001b[39;49m\u001b[43m)\u001b[49m\n\u001b[1;32m    143\u001b[0m \u001b[38;5;28;01mexcept\u001b[39;00m (\u001b[38;5;167;01mKeyboardInterrupt\u001b[39;00m, \u001b[38;5;167;01mEOFError\u001b[39;00m):\n\u001b[1;32m    144\u001b[0m     \u001b[38;5;66;03m# getpass doesn't print a newline if the user aborts input with ^C.\u001b[39;00m\n\u001b[1;32m    145\u001b[0m     \u001b[38;5;66;03m# Allegedly this behavior is inherited from getpass(3).\u001b[39;00m\n\u001b[1;32m    146\u001b[0m     \u001b[38;5;66;03m# A doc bug has been filed at https://bugs.python.org/issue24711\u001b[39;00m\n\u001b[1;32m    147\u001b[0m     \u001b[38;5;28;01mif\u001b[39;00m hide_input:\n",
      "File \u001b[0;32m/opt/conda/lib/python3.10/site-packages/click/termui.py:55\u001b[0m, in \u001b[0;36mhidden_prompt_func\u001b[0;34m(prompt)\u001b[0m\n\u001b[1;32m     52\u001b[0m \u001b[38;5;28;01mdef\u001b[39;00m \u001b[38;5;21mhidden_prompt_func\u001b[39m(prompt: \u001b[38;5;28mstr\u001b[39m) \u001b[38;5;241m-\u001b[39m\u001b[38;5;241m>\u001b[39m \u001b[38;5;28mstr\u001b[39m:\n\u001b[1;32m     53\u001b[0m     \u001b[38;5;28;01mimport\u001b[39;00m \u001b[38;5;21;01mgetpass\u001b[39;00m\n\u001b[0;32m---> 55\u001b[0m     \u001b[38;5;28;01mreturn\u001b[39;00m \u001b[43mgetpass\u001b[49m\u001b[38;5;241;43m.\u001b[39;49m\u001b[43mgetpass\u001b[49m\u001b[43m(\u001b[49m\u001b[43mprompt\u001b[49m\u001b[43m)\u001b[49m\n",
      "File \u001b[0;32m/opt/conda/lib/python3.10/site-packages/ipykernel/kernelbase.py:1165\u001b[0m, in \u001b[0;36mKernel.getpass\u001b[0;34m(self, prompt, stream)\u001b[0m\n\u001b[1;32m   1163\u001b[0m \u001b[38;5;28;01mif\u001b[39;00m \u001b[38;5;129;01mnot\u001b[39;00m \u001b[38;5;28mself\u001b[39m\u001b[38;5;241m.\u001b[39m_allow_stdin:\n\u001b[1;32m   1164\u001b[0m     msg \u001b[38;5;241m=\u001b[39m \u001b[38;5;124m\"\u001b[39m\u001b[38;5;124mgetpass was called, but this frontend does not support input requests.\u001b[39m\u001b[38;5;124m\"\u001b[39m\n\u001b[0;32m-> 1165\u001b[0m     \u001b[38;5;28;01mraise\u001b[39;00m StdinNotImplementedError(msg)\n\u001b[1;32m   1166\u001b[0m \u001b[38;5;28;01mif\u001b[39;00m stream \u001b[38;5;129;01mis\u001b[39;00m \u001b[38;5;129;01mnot\u001b[39;00m \u001b[38;5;28;01mNone\u001b[39;00m:\n\u001b[1;32m   1167\u001b[0m     \u001b[38;5;28;01mimport\u001b[39;00m \u001b[38;5;21;01mwarnings\u001b[39;00m\n",
      "\u001b[0;31mStdinNotImplementedError\u001b[0m: getpass was called, but this frontend does not support input requests."
     ]
    }
   ],
   "source": [
    "wandb.login()\n"
   ]
  },
  {
   "cell_type": "code",
   "execution_count": null,
   "id": "ac66c74c",
   "metadata": {
    "execution": {
     "iopub.execute_input": "2023-05-23T12:12:31.096920Z",
     "iopub.status.busy": "2023-05-23T12:12:31.096519Z",
     "iopub.status.idle": "2023-05-23T12:13:10.772232Z",
     "shell.execute_reply": "2023-05-23T12:13:10.771423Z",
     "shell.execute_reply.started": "2023-05-23T12:12:31.096886Z"
    },
    "papermill": {
     "duration": null,
     "end_time": null,
     "exception": null,
     "start_time": null,
     "status": "pending"
    },
    "tags": []
   },
   "outputs": [],
   "source": [
    "lr = 0.01\n",
    "epochs = 10\n",
    "## Initlisazie wandb project\n",
    "wandb.init(project='CBIR-fashion product dataset',\n",
    "           name= NAME,\n",
    "          config={\n",
    "              \"learning_rate\": lr,\n",
    "              \"Batch_normalization\": True,\n",
    "              \"Batch_size\" : 32,\n",
    "              \"Dropout\" : \"0.4\",\n",
    "              \"architecture\": \"VGG19\",\n",
    "              \"dataset\": \"fashion-product-images-dataset\",\n",
    "              \"epochs\": epochs,\n",
    "              \"data generator\" : True\n",
    "          }\n",
    "          )"
   ]
  },
  {
   "cell_type": "code",
   "execution_count": null,
   "id": "0f31e0ba",
   "metadata": {
    "execution": {
     "iopub.execute_input": "2023-05-23T12:13:10.778891Z",
     "iopub.status.busy": "2023-05-23T12:13:10.776686Z",
     "iopub.status.idle": "2023-05-23T12:13:38.106110Z",
     "shell.execute_reply": "2023-05-23T12:13:38.105020Z",
     "shell.execute_reply.started": "2023-05-23T12:13:10.778856Z"
    },
    "papermill": {
     "duration": null,
     "end_time": null,
     "exception": null,
     "start_time": null,
     "status": "pending"
    },
    "tags": []
   },
   "outputs": [],
   "source": [
    "wandb_callback = WandbCallback()\n",
    "\n",
    "filepath = \"{}_loss_opti.hdf5\".format(NAME)\n",
    "\n",
    "checkpoint1 = tf.keras.callbacks.ModelCheckpoint(\n",
    "    filepath,\n",
    "    monitor=\"val_loss\",\n",
    "    verbose=1,\n",
    "    save_best_only=True,\n",
    "    save_weights_only=False,\n",
    "    mode=\"auto\",\n",
    "    save_freq=\"epoch\"\n",
    ")\n"
   ]
  },
  {
   "cell_type": "code",
   "execution_count": null,
   "id": "236ea325",
   "metadata": {
    "execution": {
     "iopub.execute_input": "2023-05-23T12:13:38.111667Z",
     "iopub.status.busy": "2023-05-23T12:13:38.111173Z",
     "iopub.status.idle": "2023-05-23T12:13:38.144019Z",
     "shell.execute_reply": "2023-05-23T12:13:38.142964Z",
     "shell.execute_reply.started": "2023-05-23T12:13:38.111626Z"
    },
    "papermill": {
     "duration": null,
     "end_time": null,
     "exception": null,
     "start_time": null,
     "status": "pending"
    },
    "tags": []
   },
   "outputs": [],
   "source": [
    "model.compile(loss='categorical_crossentropy',\n",
    "              optimizer=Adam(learning_rate=lr),\n",
    "              metrics=['accuracy'])"
   ]
  },
  {
   "cell_type": "code",
   "execution_count": null,
   "id": "d7849de9",
   "metadata": {
    "execution": {
     "iopub.execute_input": "2023-05-23T12:13:38.147465Z",
     "iopub.status.busy": "2023-05-23T12:13:38.146824Z",
     "iopub.status.idle": "2023-05-23T13:05:15.703200Z",
     "shell.execute_reply": "2023-05-23T13:05:15.702190Z",
     "shell.execute_reply.started": "2023-05-23T12:13:38.147433Z"
    },
    "papermill": {
     "duration": null,
     "end_time": null,
     "exception": null,
     "start_time": null,
     "status": "pending"
    },
    "tags": []
   },
   "outputs": [],
   "source": [
    "history = model.fit_generator(train_generator,\n",
    "                    validation_data = train_generator,\n",
    "                    steps_per_epoch = train_generator.n//train_generator.batch_size,\n",
    "                    validation_steps = valid_generator.n//valid_generator.batch_size,\n",
    "                    epochs=epochs,\n",
    "                    callbacks=[checkpoint1, wandb_callback])"
   ]
  },
  {
   "cell_type": "code",
   "execution_count": null,
   "id": "664a9fdb",
   "metadata": {
    "execution": {
     "iopub.execute_input": "2023-05-23T13:05:15.705376Z",
     "iopub.status.busy": "2023-05-23T13:05:15.704586Z",
     "iopub.status.idle": "2023-05-23T13:05:20.138651Z",
     "shell.execute_reply": "2023-05-23T13:05:20.137562Z",
     "shell.execute_reply.started": "2023-05-23T13:05:15.705340Z"
    },
    "papermill": {
     "duration": null,
     "end_time": null,
     "exception": null,
     "start_time": null,
     "status": "pending"
    },
    "tags": []
   },
   "outputs": [],
   "source": [
    "model.save(filepath)"
   ]
  },
  {
   "cell_type": "code",
   "execution_count": null,
   "id": "ec23e660",
   "metadata": {
    "execution": {
     "iopub.execute_input": "2023-05-23T13:05:20.156785Z",
     "iopub.status.busy": "2023-05-23T13:05:20.152053Z",
     "iopub.status.idle": "2023-05-23T13:05:48.262214Z",
     "shell.execute_reply": "2023-05-23T13:05:48.261155Z",
     "shell.execute_reply.started": "2023-05-23T13:05:20.156737Z"
    },
    "papermill": {
     "duration": null,
     "end_time": null,
     "exception": null,
     "start_time": null,
     "status": "pending"
    },
    "tags": []
   },
   "outputs": [],
   "source": [
    "score = model.evaluate_generator(test_generator)\n",
    "print('Test loss:', score[0])\n",
    "print('Test accuracy:', score[1])"
   ]
  },
  {
   "cell_type": "code",
   "execution_count": null,
   "id": "a0f5d4a3",
   "metadata": {
    "execution": {
     "iopub.execute_input": "2023-05-23T13:05:48.264674Z",
     "iopub.status.busy": "2023-05-23T13:05:48.263980Z",
     "iopub.status.idle": "2023-05-23T13:05:54.781451Z",
     "shell.execute_reply": "2023-05-23T13:05:54.780430Z",
     "shell.execute_reply.started": "2023-05-23T13:05:48.264638Z"
    },
    "papermill": {
     "duration": null,
     "end_time": null,
     "exception": null,
     "start_time": null,
     "status": "pending"
    },
    "tags": []
   },
   "outputs": [],
   "source": [
    "from tensorflow.keras.models import load_model\n",
    "best_model = load_model(filepath)"
   ]
  },
  {
   "cell_type": "code",
   "execution_count": null,
   "id": "e7206b49",
   "metadata": {
    "execution": {
     "iopub.execute_input": "2023-05-23T13:05:54.783891Z",
     "iopub.status.busy": "2023-05-23T13:05:54.783195Z",
     "iopub.status.idle": "2023-05-23T13:06:12.912558Z",
     "shell.execute_reply": "2023-05-23T13:06:12.911600Z",
     "shell.execute_reply.started": "2023-05-23T13:05:54.783856Z"
    },
    "papermill": {
     "duration": null,
     "end_time": null,
     "exception": null,
     "start_time": null,
     "status": "pending"
    },
    "tags": []
   },
   "outputs": [],
   "source": [
    "score = best_model.evaluate_generator(test_generator)\n",
    "print('Test loss:', score[0])\n",
    "print('Test accuracy:', score[1])"
   ]
  },
  {
   "cell_type": "code",
   "execution_count": null,
   "id": "ebf2ca5b",
   "metadata": {
    "execution": {
     "iopub.execute_input": "2023-05-23T13:06:12.919659Z",
     "iopub.status.busy": "2023-05-23T13:06:12.917374Z",
     "iopub.status.idle": "2023-05-23T13:06:12.929318Z",
     "shell.execute_reply": "2023-05-23T13:06:12.928170Z",
     "shell.execute_reply.started": "2023-05-23T13:06:12.919630Z"
    },
    "papermill": {
     "duration": null,
     "end_time": null,
     "exception": null,
     "start_time": null,
     "status": "pending"
    },
    "tags": []
   },
   "outputs": [],
   "source": [
    "IMAGESIZE = 224\n",
    "CHANNELS = 3\n",
    "def image_preprocess(image_path):\n",
    "    image_orig = cv2.imread(image_path)\n",
    "    image_arr = cv2.cvtColor(image_orig, cv2.COLOR_BGR2RGB)\n",
    "    image_arr = cv2.resize(image_arr, (IMAGESIZE, IMAGESIZE))\n",
    "    image_arr = image_arr/255.\n",
    "    image_arr = image_arr.reshape(-1, IMAGESIZE, IMAGESIZE, CHANNELS)\n",
    "    return image_arr"
   ]
  },
  {
   "cell_type": "code",
   "execution_count": null,
   "id": "6c51b51c",
   "metadata": {
    "execution": {
     "iopub.execute_input": "2023-05-23T13:06:12.940533Z",
     "iopub.status.busy": "2023-05-23T13:06:12.937525Z",
     "iopub.status.idle": "2023-05-23T13:06:12.953437Z",
     "shell.execute_reply": "2023-05-23T13:06:12.952013Z",
     "shell.execute_reply.started": "2023-05-23T13:06:12.940458Z"
    },
    "papermill": {
     "duration": null,
     "end_time": null,
     "exception": null,
     "start_time": null,
     "status": "pending"
    },
    "tags": []
   },
   "outputs": [],
   "source": [
    "test_df.filename[1]"
   ]
  },
  {
   "cell_type": "code",
   "execution_count": null,
   "id": "fb10050e",
   "metadata": {
    "execution": {
     "iopub.execute_input": "2023-05-23T13:06:12.957676Z",
     "iopub.status.busy": "2023-05-23T13:06:12.957355Z",
     "iopub.status.idle": "2023-05-23T13:06:13.181887Z",
     "shell.execute_reply": "2023-05-23T13:06:13.180837Z",
     "shell.execute_reply.started": "2023-05-23T13:06:12.957651Z"
    },
    "papermill": {
     "duration": null,
     "end_time": null,
     "exception": null,
     "start_time": null,
     "status": "pending"
    },
    "tags": []
   },
   "outputs": [],
   "source": [
    "import cv2\n",
    "import matplotlib.pyplot as plt"
   ]
  },
  {
   "cell_type": "code",
   "execution_count": null,
   "id": "ec0d171d",
   "metadata": {
    "execution": {
     "iopub.execute_input": "2023-05-23T13:06:13.184021Z",
     "iopub.status.busy": "2023-05-23T13:06:13.183425Z",
     "iopub.status.idle": "2023-05-23T13:06:13.519416Z",
     "shell.execute_reply": "2023-05-23T13:06:13.517516Z",
     "shell.execute_reply.started": "2023-05-23T13:06:13.183979Z"
    },
    "papermill": {
     "duration": null,
     "end_time": null,
     "exception": null,
     "start_time": null,
     "status": "pending"
    },
    "tags": []
   },
   "outputs": [],
   "source": [
    "anchor_path = '/kaggle/input/fashion-product-images-dataset/fashion-dataset/images/50892.jpg'\n",
    "pos_path = '/kaggle/input/fashion-product-images-dataset/fashion-dataset/images/45986.jpg'\n",
    "neg_path = '/kaggle/input/fashion-product-images-dataset/fashion-dataset/images/29863.jpg'\n",
    "image_arr1 = image_preprocess(anchor_path)\n",
    "image_arr2 = image_preprocess(pos_path)\n",
    "image_arr3 = image_preprocess(neg_path)\n",
    "image_lst = [image_arr1, image_arr2, image_arr3]\n",
    "for i, image_arr in enumerate(image_lst):\n",
    "    plt.subplot(1, 3, i+1)\n",
    "    plt.imshow(image_arr[0])\n",
    "    plt.axis(False)\n",
    "plt.show()"
   ]
  },
  {
   "cell_type": "code",
   "execution_count": null,
   "id": "bf191bcd",
   "metadata": {
    "papermill": {
     "duration": null,
     "end_time": null,
     "exception": null,
     "start_time": null,
     "status": "pending"
    },
    "tags": []
   },
   "outputs": [],
   "source": []
  }
 ],
 "metadata": {
  "kernelspec": {
   "display_name": "Python 3",
   "language": "python",
   "name": "python3"
  },
  "language_info": {
   "codemirror_mode": {
    "name": "ipython",
    "version": 3
   },
   "file_extension": ".py",
   "mimetype": "text/x-python",
   "name": "python",
   "nbconvert_exporter": "python",
   "pygments_lexer": "ipython3",
   "version": "3.10.10"
  },
  "papermill": {
   "default_parameters": {},
   "duration": 60.777864,
   "end_time": "2023-05-23T14:20:13.315298",
   "environment_variables": {},
   "exception": true,
   "input_path": "__notebook__.ipynb",
   "output_path": "__notebook__.ipynb",
   "parameters": {},
   "start_time": "2023-05-23T14:19:12.537434",
   "version": "2.4.0"
  }
 },
 "nbformat": 4,
 "nbformat_minor": 5
}
