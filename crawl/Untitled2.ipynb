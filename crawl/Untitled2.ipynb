{
 "cells": [
  {
   "cell_type": "code",
   "execution_count": 2,
   "id": "979b7ec7-2d11-4cc2-a7ab-242fc631a7f7",
   "metadata": {},
   "outputs": [],
   "source": [
    "import requests\n",
    "from bs4 import BeautifulSoup\n",
    "import os"
   ]
  },
  {
   "cell_type": "code",
   "execution_count": 3,
   "id": "d62c0f35-499a-4e06-8fd0-42d9980112c1",
   "metadata": {},
   "outputs": [],
   "source": [
    "# Tạo thư mục để lưu ảnh\n",
    "if not os.path.exists('images/Saree'):\n",
    "    os.makedirs('images/Saree')"
   ]
  },
  {
   "cell_type": "code",
   "execution_count": 28,
   "id": "a889f62f-88bb-426d-91c0-8e948e4ea604",
   "metadata": {},
   "outputs": [],
   "source": [
    "url = 'https://www.samyakk.com/tsearch?q=saree'"
   ]
  },
  {
   "cell_type": "code",
   "execution_count": 29,
   "id": "b27c7ce8-9005-414f-a41b-54faa403ec6b",
   "metadata": {},
   "outputs": [],
   "source": [
    "# Gửi yêu cầu GET đến trang web\n",
    "response = requests.get(url)"
   ]
  },
  {
   "cell_type": "code",
   "execution_count": 30,
   "id": "61a29b8a-b9fd-4ea0-bab8-03136b10af5e",
   "metadata": {},
   "outputs": [],
   "source": [
    "soup = BeautifulSoup(response.content, 'html.parser')\n",
    "\n",
    "    # Tìm tất cả các thẻ hình ảnh trong trang\n",
    "images = soup.find_all('img',class_=\"picture-wrapper\")"
   ]
  },
  {
   "cell_type": "code",
   "execution_count": 31,
   "id": "1f3461b8-4383-40a2-88ca-b3ad6f613998",
   "metadata": {},
   "outputs": [
    {
     "data": {
      "text/plain": [
       "<html>\n",
       "<head><title>403 Forbidden</title></head>\n",
       "<body bgcolor=\"white\">\n",
       "<center><h1>403 Forbidden</h1></center>\n",
       "<hr/><center>nginx/1.15.3</center>\n",
       "</body>\n",
       "</html>"
      ]
     },
     "execution_count": 31,
     "metadata": {},
     "output_type": "execute_result"
    }
   ],
   "source": [
    "soup"
   ]
  },
  {
   "cell_type": "code",
   "execution_count": null,
   "id": "1d3e0837-e18c-467b-b862-0c68989f60e8",
   "metadata": {},
   "outputs": [],
   "source": [
    "# Kiểm tra xem yêu cầu thành công hay không\n",
    "i = 0\n",
    "if response.status_code == 200:\n",
    "    # Phân tích HTML của trang web\n",
    "    soup = BeautifulSoup(response.content, 'html.parser')\n",
    "\n",
    "    # Tìm tất cả các thẻ hình ảnh trong trang\n",
    "    images = soup.find_all('img',class_=\"img_thumb lazy\")\n",
    "\n",
    "    # Lặp qua từng hình ảnh và lưu xuống ổ đĩa\n",
    "    for image in images:\n",
    "        # Lấy URL của hình ảnh\n",
    "        \n",
    "        image_url = image['data-src']\n",
    "\n",
    "        # Lấy tên tệp tin từ URL\n",
    "        image_filename = os.path.basename(image_url)\n",
    "\n",
    "        # Tạo URL tuyệt đối của hình ảnh\n",
    "        absolute_image_url = url + image_url\n",
    "\n",
    "        # Gửi yêu cầu GET đến URL của hình ảnh\n",
    "        image_response = requests.get(absolute_image_url)\n",
    "\n",
    "        # Kiểm tra xem yêu cầu thành công hay không\n",
    "        if image_response.status_code == 200:\n",
    "            # Lưu hình ảnh xuống thư mục 'images'\n",
    "            with open('images/' + image_filename, 'wb') as f:\n",
    "                f.write(image_response.content)\n",
    "\n",
    "            print(f\"Lưu ảnh {image_filename} thành công.\")\n",
    "            i+=1\n",
    "        else:\n",
    "            print(f\"Lưu ảnh {image_filename} thất bại.\")\n",
    "else:\n",
    "    print(\"Yêu cầu không thành công.\")\n",
    "    \n",
    "print('số ảnh', i)"
   ]
  },
  {
   "cell_type": "code",
   "execution_count": null,
   "id": "a80cf136-59cc-40e1-993d-79e5a9adcb4d",
   "metadata": {},
   "outputs": [],
   "source": []
  }
 ],
 "metadata": {
  "kernelspec": {
   "display_name": "Python 3 (ipykernel)",
   "language": "python",
   "name": "python3"
  },
  "language_info": {
   "codemirror_mode": {
    "name": "ipython",
    "version": 3
   },
   "file_extension": ".py",
   "mimetype": "text/x-python",
   "name": "python",
   "nbconvert_exporter": "python",
   "pygments_lexer": "ipython3",
   "version": "3.9.12"
  }
 },
 "nbformat": 4,
 "nbformat_minor": 5
}
