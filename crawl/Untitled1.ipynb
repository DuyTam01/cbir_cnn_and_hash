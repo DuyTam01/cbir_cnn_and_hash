{
 "cells": [
  {
   "cell_type": "code",
   "execution_count": 1,
   "id": "dcd3261e-751e-4b74-91ae-345349bf0198",
   "metadata": {},
   "outputs": [],
   "source": [
    "import requests\n",
    "from bs4 import BeautifulSoup\n",
    "import os\n",
    "import re"
   ]
  },
  {
   "cell_type": "code",
   "execution_count": 2,
   "id": "9cc4067e-b1eb-4d7d-9bbc-849104d6658f",
   "metadata": {},
   "outputs": [],
   "source": [
    "# Tạo thư mục để lưu ảnh\n",
    "if not os.path.exists('images/Dress'):\n",
    "    os.makedirs('images/Dress')"
   ]
  },
  {
   "cell_type": "code",
   "execution_count": 3,
   "id": "70865c8d-234f-4001-b678-6aa889f16221",
   "metadata": {},
   "outputs": [],
   "source": [
    "url = 'https://www.poetrystores.co.za/c/clothing-dresses-a-line/#103460143-C21'"
   ]
  },
  {
   "cell_type": "code",
   "execution_count": 4,
   "id": "b3f0819a-9ba3-4542-b2d3-dbe68bd641e5",
   "metadata": {},
   "outputs": [],
   "source": [
    "# Gửi yêu cầu GET đến trang web\n",
    "response = requests.get(url)"
   ]
  },
  {
   "cell_type": "code",
   "execution_count": 5,
   "id": "ecebe735-f966-44e4-a951-c3e711e44f5b",
   "metadata": {},
   "outputs": [],
   "source": [
    "soup = BeautifulSoup(response.content, 'html.parser')\n",
    "\n",
    "    # Tìm tất cả các thẻ hình ảnh trong trang\n",
    "images = soup.find_all('img', class_='tile-image lazyload')"
   ]
  },
  {
   "cell_type": "code",
   "execution_count": 6,
   "id": "4544495f-ada3-4d1a-99b4-fb95db3e370b",
   "metadata": {},
   "outputs": [
    {
     "data": {
      "text/plain": [
       "[<img alt=\"Cammie Sequin Shift Dress\" class=\"tile-image lazyload\" data-src=\"https://media.capeunionmart.co.za/i/poetrystores/102805074_C25_1?$large_PROD$\" title=\"Cammie Sequin Shift Dress -  nude\"/>,\n",
       " <img alt=\"Cammie Sequin Shift Dress\" class=\"tile-image lazyload\" data-src=\"https://media.capeunionmart.co.za/i/poetrystores/102805074_C25_2?$large_PROD$\" title=\"Cammie Sequin Shift Dress -  nude\"/>,\n",
       " <img alt=\"Elyna Printed Tiered Dress\" class=\"tile-image lazyload\" data-src=\"https://media.capeunionmart.co.za/i/poetrystores/103550205_C78_1?$large_PROD$\" title=\"Elyna Printed Tiered Dress -  olive\"/>,\n",
       " <img alt=\"Elyna Printed Tiered Dress\" class=\"tile-image lazyload\" data-src=\"https://media.capeunionmart.co.za/i/poetrystores/103550205_C78_2?$large_PROD$\" title=\"Elyna Printed Tiered Dress -  olive\"/>,\n",
       " <img alt=\"Jules Sateen Dress\" class=\"tile-image lazyload\" data-src=\"https://media.capeunionmart.co.za/i/poetrystores/103340148_C01_1?$large_PROD$\" title=\"Jules Sateen Dress -  black\"/>,\n",
       " <img alt=\"Jules Sateen Dress\" class=\"tile-image lazyload\" data-src=\"https://media.capeunionmart.co.za/i/poetrystores/103340148_C01_2?$large_PROD$\" title=\"Jules Sateen Dress -  black\"/>,\n",
       " <img alt=\"Jules Sateen Dress\" class=\"tile-image lazyload\" data-src=\"https://media.capeunionmart.co.za/i/poetrystores/103340148_C61_1?$large_PROD$\" title=\"Jules Sateen Dress -  cobalt\"/>,\n",
       " <img alt=\"Jules Sateen Dress\" class=\"tile-image lazyload\" data-src=\"https://media.capeunionmart.co.za/i/poetrystores/103340148_C61_2?$large_PROD$\" title=\"Jules Sateen Dress -  cobalt\"/>,\n",
       " <img alt=\"Jules Sateen Dress\" class=\"tile-image lazyload\" data-src=\"https://media.capeunionmart.co.za/i/poetrystores/103340148_C72_1?$large_PROD$\" title=\"Jules Sateen Dress -  darkgreen\"/>,\n",
       " <img alt=\"Jules Sateen Dress\" class=\"tile-image lazyload\" data-src=\"https://media.capeunionmart.co.za/i/poetrystores/103340148_C72_2?$large_PROD$\" title=\"Jules Sateen Dress -  darkgreen\"/>,\n",
       " <img alt=\"Carolina Knit Dress\" class=\"tile-image lazyload\" data-src=\"https://media.capeunionmart.co.za/i/poetrystores/103185765_C69_1?$large_PROD$\" title=\"Carolina Knit Dress -  green\"/>,\n",
       " <img alt=\"Carolina Knit Dress\" class=\"tile-image lazyload\" data-src=\"https://media.capeunionmart.co.za/i/poetrystores/103185765_C69_2?$large_PROD$\" title=\"Carolina Knit Dress -  green\"/>,\n",
       " <img alt=\"Jules Sateen Dress\" class=\"tile-image lazyload\" data-src=\"https://media.capeunionmart.co.za/i/poetrystores/103340148_C95_1?$large_PROD$\" title=\"Jules Sateen Dress -  rust\"/>,\n",
       " <img alt=\"Jules Sateen Dress\" class=\"tile-image lazyload\" data-src=\"https://media.capeunionmart.co.za/i/poetrystores/103340148_C95_2?$large_PROD$\" title=\"Jules Sateen Dress -  rust\"/>,\n",
       " <img alt=\"Fabienne Short Printed Linen Shift Dress\" class=\"tile-image lazyload\" data-src=\"https://media.capeunionmart.co.za/i/poetrystores/103455077_C27_1?$large_PROD$\" title=\"Fabienne Short Printed Linen Shift Dress -  red\"/>,\n",
       " <img alt=\"Fabienne Short Printed Linen Shift Dress\" class=\"tile-image lazyload\" data-src=\"https://media.capeunionmart.co.za/i/poetrystores/103455077_C27_2?$large_PROD$\" title=\"Fabienne Short Printed Linen Shift Dress -  red\"/>,\n",
       " <img alt=\"Lydia Printed Tunic Dress\" class=\"tile-image lazyload\" data-src=\"https://media.capeunionmart.co.za/i/poetrystores/103340190_C99_1?$large_PROD$\" title=\"Lydia Printed Tunic Dress -  assorted\"/>,\n",
       " <img alt=\"Lydia Printed Tunic Dress\" class=\"tile-image lazyload\" data-src=\"https://media.capeunionmart.co.za/i/poetrystores/103340190_C99_2?$large_PROD$\" title=\"Lydia Printed Tunic Dress -  assorted\"/>,\n",
       " <img alt=\"Aurelie Printed Dress\" class=\"tile-image lazyload\" data-src=\"https://media.capeunionmart.co.za/i/poetrystores/103340186_C78_1?$large_PROD$\" title=\"Aurelie Printed Dress -  olive\"/>,\n",
       " <img alt=\"Aurelie Printed Dress\" class=\"tile-image lazyload\" data-src=\"https://media.capeunionmart.co.za/i/poetrystores/103340186_C78_2?$large_PROD$\" title=\"Aurelie Printed Dress -  olive\"/>,\n",
       " <img alt=\"Reagan Dress\" class=\"tile-image lazyload\" data-src=\"https://media.capeunionmart.co.za/i/poetrystores/103460143_C01_1?$large_PROD$\" title=\"Reagan Dress -  black\"/>,\n",
       " <img alt=\"Reagan Dress\" class=\"tile-image lazyload\" data-src=\"https://media.capeunionmart.co.za/i/poetrystores/103460143_C01_2?$large_PROD$\" title=\"Reagan Dress -  black\"/>,\n",
       " <img alt=\"Amaya T-Shirt Dress\" class=\"tile-image lazyload\" data-src=\"https://media.capeunionmart.co.za/i/poetrystores/103020225_C01_1?$large_PROD$\" title=\"Amaya T-Shirt Dress -  black\"/>,\n",
       " <img alt=\"Amaya T-Shirt Dress\" class=\"tile-image lazyload\" data-src=\"https://media.capeunionmart.co.za/i/poetrystores/103020225_C01_2?$large_PROD$\" title=\"Amaya T-Shirt Dress -  black\"/>,\n",
       " <img alt=\"Girls Mini Elyna Printed Tiered Dress\" class=\"tile-image lazyload\" data-src=\"https://media.capeunionmart.co.za/i/poetrystores/103435173_C78_1?$large_PROD$\" title=\"Girls Mini Elyna Printed Tiered Dress -  olive\"/>,\n",
       " <img alt=\"Girls Mini Elyna Printed Tiered Dress\" class=\"tile-image lazyload\" data-src=\"https://media.capeunionmart.co.za/i/poetrystores/103435173_C78_2?$large_PROD$\" title=\"Girls Mini Elyna Printed Tiered Dress -  olive\"/>,\n",
       " <img alt=\"Reese Printed Shift Dress\" class=\"tile-image lazyload\" data-src=\"https://media.capeunionmart.co.za/i/poetrystores/103350089_C99_1?$large_PROD$\" title=\"Reese Printed Shift Dress -  assorted\"/>,\n",
       " <img alt=\"Reese Printed Shift Dress\" class=\"tile-image lazyload\" data-src=\"https://media.capeunionmart.co.za/i/poetrystores/103350089_C99_2?$large_PROD$\" title=\"Reese Printed Shift Dress -  assorted\"/>,\n",
       " <img alt=\"Amaya T-Shirt Dress\" class=\"tile-image lazyload\" data-src=\"https://media.capeunionmart.co.za/i/poetrystores/103020225_C09_1?$large_PROD$\" title=\"Amaya T-Shirt Dress -  white\"/>,\n",
       " <img alt=\"Amaya T-Shirt Dress\" class=\"tile-image lazyload\" data-src=\"https://media.capeunionmart.co.za/i/poetrystores/103020225_C09_2?$large_PROD$\" title=\"Amaya T-Shirt Dress -  white\"/>,\n",
       " <img alt=\"Reagan Dress\" class=\"tile-image lazyload\" data-src=\"https://media.capeunionmart.co.za/i/poetrystores/103460143_C21_1?$large_PROD$\" title=\"Reagan Dress -  taupe\"/>,\n",
       " <img alt=\"Reagan Dress\" class=\"tile-image lazyload\" data-src=\"https://media.capeunionmart.co.za/i/poetrystores/103460143_C21_2?$large_PROD$\" title=\"Reagan Dress -  taupe\"/>,\n",
       " <img alt=\"Girls Mini Aurelie Printed Dress\" class=\"tile-image lazyload\" data-src=\"https://media.capeunionmart.co.za/i/poetrystores/103410120_C78_1?$large_PROD$\" title=\"Girls Mini Aurelie Printed Dress -  olive\"/>,\n",
       " <img alt=\"Girls Mini Aurelie Printed Dress\" class=\"tile-image lazyload\" data-src=\"https://media.capeunionmart.co.za/i/poetrystores/103410120_C78_2?$large_PROD$\" title=\"Girls Mini Aurelie Printed Dress -  olive\"/>,\n",
       " <img alt=\"Fabienne Printed Linen Shift Dress\" class=\"tile-image lazyload\" data-src=\"https://media.capeunionmart.co.za/i/poetrystores/103185226_C33_1?$large_PROD$\" title=\"Fabienne Printed Linen Shift Dress -  pink\"/>,\n",
       " <img alt=\"Fabienne Printed Linen Shift Dress\" class=\"tile-image lazyload\" data-src=\"https://media.capeunionmart.co.za/i/poetrystores/103185226_C33_2?$large_PROD$\" title=\"Fabienne Printed Linen Shift Dress -  pink\"/>,\n",
       " <img alt=\"Fabienne Linen Shift Dress\" class=\"tile-image lazyload\" data-src=\"https://media.capeunionmart.co.za/i/poetrystores/103185238_C23_1?$large_PROD$\" title=\"Fabienne Linen Shift Dress -  stone\"/>,\n",
       " <img alt=\"Fabienne Linen Shift Dress\" class=\"tile-image lazyload\" data-src=\"https://media.capeunionmart.co.za/i/poetrystores/103185238_C23_2?$large_PROD$\" title=\"Fabienne Linen Shift Dress -  stone\"/>,\n",
       " <img alt=\"Alondra Kaftan Dress\" class=\"tile-image lazyload\" data-src=\"https://media.capeunionmart.co.za/i/poetrystores/102890085_C99_1?$large_PROD$\" title=\"Alondra Kaftan Dress -  assorted\"/>,\n",
       " <img alt=\"Alondra Kaftan Dress\" class=\"tile-image lazyload\" data-src=\"https://media.capeunionmart.co.za/i/poetrystores/102890085_C99_2?$large_PROD$\" title=\"Alondra Kaftan Dress -  assorted\"/>,\n",
       " <img alt=\"Luella Knit Dress\" class=\"tile-image lazyload\" data-src=\"https://media.capeunionmart.co.za/i/poetrystores/103205179_C94_1?$large_PROD$\" title=\"Luella Knit Dress -  orange\"/>,\n",
       " <img alt=\"Luella Knit Dress\" class=\"tile-image lazyload\" data-src=\"https://media.capeunionmart.co.za/i/poetrystores/103205179_C94_2?$large_PROD$\" title=\"Luella Knit Dress -  orange\"/>,\n",
       " <img alt=\"Luella Knit Dress\" class=\"tile-image lazyload\" data-src=\"https://media.capeunionmart.co.za/i/poetrystores/103205179_C10_1?$large_PROD$\" title=\"Luella Knit Dress -  milk\"/>,\n",
       " <img alt=\"Luella Knit Dress\" class=\"tile-image lazyload\" data-src=\"https://media.capeunionmart.co.za/i/poetrystores/103205179_C10_2?$large_PROD$\" title=\"Luella Knit Dress -  milk\"/>,\n",
       " <img alt=\"Annabelle Biased Cut Slip Dress\" class=\"tile-image lazyload\" data-src=\"https://media.capeunionmart.co.za/i/poetrystores/101925405_C01_1?$large_PROD$\" title=\"Annabelle Biased Cut Slip Dress -  black\"/>,\n",
       " <img alt=\"Annabelle Biased Cut Slip Dress\" class=\"tile-image lazyload\" data-src=\"https://media.capeunionmart.co.za/i/poetrystores/101925405_C01_2?$large_PROD$\" title=\"Annabelle Biased Cut Slip Dress -  black\"/>,\n",
       " <img alt=\"Keira Halterneck Dress\" class=\"tile-image lazyload\" data-src=\"https://media.capeunionmart.co.za/i/poetrystores/103195071_C69_1?$large_PROD$\" title=\"Keira Halterneck Dress -  green\"/>,\n",
       " <img alt=\"Keira Halterneck Dress\" class=\"tile-image lazyload\" data-src=\"https://media.capeunionmart.co.za/i/poetrystores/103195071_C69_2?$large_PROD$\" title=\"Keira Halterneck Dress -  green\"/>,\n",
       " <img alt=\"Naomi Knitwear Dress\" class=\"tile-image lazyload\" data-src=\"https://media.capeunionmart.co.za/i/poetrystores/103185588_C61_1?$large_PROD$\" title=\"Naomi Knitwear Dress -  cobalt\"/>,\n",
       " <img alt=\"Naomi Knitwear Dress\" class=\"tile-image lazyload\" data-src=\"https://media.capeunionmart.co.za/i/poetrystores/103185588_C61_2?$large_PROD$\" title=\"Naomi Knitwear Dress -  cobalt\"/>,\n",
       " <img alt=\"Jeanne Hoffman x Poetry Green Summer Tiered Dress\" class=\"tile-image lazyload\" data-src=\"https://media.capeunionmart.co.za/i/poetrystores/102850203_C54_1?$large_PROD$\" title=\"Jeanne Hoffman x Poetry Green Summer Tiered Dress -  blue\"/>,\n",
       " <img alt=\"Jeanne Hoffman x Poetry Green Summer Tiered Dress\" class=\"tile-image lazyload\" data-src=\"https://media.capeunionmart.co.za/i/poetrystores/102850203_C54_2?$large_PROD$\" title=\"Jeanne Hoffman x Poetry Green Summer Tiered Dress -  blue\"/>,\n",
       " <img alt=\"Keira Halterneck Dress\" class=\"tile-image lazyload\" data-src=\"https://media.capeunionmart.co.za/i/poetrystores/103195071_C09_1?$large_PROD$\" title=\"Keira Halterneck Dress -  white\"/>,\n",
       " <img alt=\"Keira Halterneck Dress\" class=\"tile-image lazyload\" data-src=\"https://media.capeunionmart.co.za/i/poetrystores/103195071_C09_2?$large_PROD$\" title=\"Keira Halterneck Dress -  white\"/>,\n",
       " <img alt=\"Fabienne Short Linen Shift Dress\" class=\"tile-image lazyload\" data-src=\"https://media.capeunionmart.co.za/i/poetrystores/103460128_C23_1?$large_PROD$\" title=\"Fabienne Short Linen Shift Dress -  stone\"/>,\n",
       " <img alt=\"Fabienne Short Linen Shift Dress\" class=\"tile-image lazyload\" data-src=\"https://media.capeunionmart.co.za/i/poetrystores/103460128_C23_2?$large_PROD$\" title=\"Fabienne Short Linen Shift Dress -  stone\"/>,\n",
       " <img alt=\"Selena Linen Dress\" class=\"tile-image lazyload\" data-src=\"https://media.capeunionmart.co.za/i/poetrystores/102925116_C69_1?$large_PROD$\" title=\"Selena Linen Dress -  green\"/>,\n",
       " <img alt=\"Selena Linen Dress\" class=\"tile-image lazyload\" data-src=\"https://media.capeunionmart.co.za/i/poetrystores/102925116_C69_2?$large_PROD$\" title=\"Selena Linen Dress -  green\"/>,\n",
       " <img alt=\"Halsey Printed Linen Dress\" class=\"tile-image lazyload\" data-src=\"https://media.capeunionmart.co.za/i/poetrystores/102910277_C33_1?$large_PROD$\" title=\"Halsey Printed Linen Dress -  pink\"/>,\n",
       " <img alt=\"Halsey Printed Linen Dress\" class=\"tile-image lazyload\" data-src=\"https://media.capeunionmart.co.za/i/poetrystores/102910277_C33_2?$large_PROD$\" title=\"Halsey Printed Linen Dress -  pink\"/>,\n",
       " <img alt=\"Cassidy Linen Dress\" class=\"tile-image lazyload\" data-src=\"https://media.capeunionmart.co.za/i/poetrystores/102740088_C09_1?$large_PROD$\" title=\"Cassidy Linen Dress -  white\"/>,\n",
       " <img alt=\"Cassidy Linen Dress\" class=\"tile-image lazyload\" data-src=\"https://media.capeunionmart.co.za/i/poetrystores/102740088_C09_2?$large_PROD$\" title=\"Cassidy Linen Dress -  white\"/>,\n",
       " <img alt=\"Suri Linen Dress\" class=\"tile-image lazyload\" data-src=\"https://media.capeunionmart.co.za/i/poetrystores/103185553_C33_1?$large_PROD$\" title=\"Suri Linen Dress -  pink\"/>,\n",
       " <img alt=\"Suri Linen Dress\" class=\"tile-image lazyload\" data-src=\"https://media.capeunionmart.co.za/i/poetrystores/103185553_C33_2?$large_PROD$\" title=\"Suri Linen Dress -  pink\"/>,\n",
       " <img alt=\"Amalia Tiered Dress\" class=\"tile-image lazyload\" data-src=\"https://media.capeunionmart.co.za/i/poetrystores/102735281_C43_1?$large_PROD$\" title=\"Amalia Tiered Dress -  coral\"/>,\n",
       " <img alt=\"Amalia Tiered Dress\" class=\"tile-image lazyload\" data-src=\"https://media.capeunionmart.co.za/i/poetrystores/102735281_C43_2?$large_PROD$\" title=\"Amalia Tiered Dress -  coral\"/>,\n",
       " <img alt=\"Poetry Joelle Printed Dress\" class=\"tile-image lazyload\" data-src=\"https://media.capeunionmart.co.za/i/poetrystores/103185208_C99_1?$large_PROD$\" title=\"Poetry Joelle Printed Dress -  assorted\"/>,\n",
       " <img alt=\"Poetry Joelle Printed Dress\" class=\"tile-image lazyload\" data-src=\"https://media.capeunionmart.co.za/i/poetrystores/103185208_C99_2?$large_PROD$\" title=\"Poetry Joelle Printed Dress -  assorted\"/>,\n",
       " <img alt=\"Halsey Plain Linen Dress\" class=\"tile-image lazyload\" data-src=\"https://media.capeunionmart.co.za/i/poetrystores/101555470_C67_1?$large_PROD$\" title=\"Halsey Plain Linen Dress -  aqua\"/>,\n",
       " <img alt=\"Halsey Plain Linen Dress\" class=\"tile-image lazyload\" data-src=\"https://media.capeunionmart.co.za/i/poetrystores/101555470_C67_2?$large_PROD$\" title=\"Halsey Plain Linen Dress -  aqua\"/>,\n",
       " <img alt=\"Stacy Pleated Dress\" class=\"tile-image lazyload\" data-src=\"https://media.capeunionmart.co.za/i/poetrystores/102745193_C01_1?$large_PROD$\" title=\"Stacy Pleated Dress -  black\"/>,\n",
       " <img alt=\"Stacy Pleated Dress\" class=\"tile-image lazyload\" data-src=\"https://media.capeunionmart.co.za/i/poetrystores/102745193_C01_2?$large_PROD$\" title=\"Stacy Pleated Dress -  black\"/>,\n",
       " <img alt=\"Emma Swing Dress\" class=\"tile-image lazyload\" data-src=\"https://media.capeunionmart.co.za/i/poetrystores/103115165_C23_1?$large_PROD$\" title=\"Emma Swing Dress -  stone\"/>,\n",
       " <img alt=\"Emma Swing Dress\" class=\"tile-image lazyload\" data-src=\"https://media.capeunionmart.co.za/i/poetrystores/103115165_C23_2?$large_PROD$\" title=\"Emma Swing Dress -  stone\"/>,\n",
       " <img alt=\"Girls Mini Lola Linen Dress\" class=\"tile-image lazyload\" data-src=\"https://media.capeunionmart.co.za/i/poetrystores/103215109_C01_1?$large_PROD$\" title=\"Girls Mini Lola Linen Dress -  black\"/>,\n",
       " <img alt=\"Girls Mini Lola Linen Dress\" class=\"tile-image lazyload\" data-src=\"https://media.capeunionmart.co.za/i/poetrystores/103215109_C01_2?$large_PROD$\" title=\"Girls Mini Lola Linen Dress -  black\"/>,\n",
       " <img alt=\"Myka Embroidered Dress\" class=\"tile-image lazyload\" data-src=\"https://media.capeunionmart.co.za/i/poetrystores/102730097_C69_1?$large_PROD$\" title=\"Myka Embroidered Dress -  green\"/>,\n",
       " <img alt=\"Myka Embroidered Dress\" class=\"tile-image lazyload\" data-src=\"https://media.capeunionmart.co.za/i/poetrystores/102730097_C69_2?$large_PROD$\" title=\"Myka Embroidered Dress -  green\"/>,\n",
       " <img alt=\"Poetry Julianna Printed Linen Blend Dress\" class=\"tile-image lazyload\" data-src=\"https://media.capeunionmart.co.za/i/poetrystores/103310065_C54_1?$large_PROD$\" title=\"Poetry Julianna Printed Linen Blend Dress -  blue\"/>,\n",
       " <img alt=\"Poetry Julianna Printed Linen Blend Dress\" class=\"tile-image lazyload\" data-src=\"https://media.capeunionmart.co.za/i/poetrystores/103310065_C54_2?$large_PROD$\" title=\"Poetry Julianna Printed Linen Blend Dress -  blue\"/>,\n",
       " <img alt=\"Poetry Everleigh Printed Pintuck Dress\" class=\"tile-image lazyload\" data-src=\"https://media.capeunionmart.co.za/i/poetrystores/102570065_C78_1?$large_PROD$\" title=\"Poetry Everleigh Printed Pintuck Dress -  olive\"/>,\n",
       " <img alt=\"Poetry Everleigh Printed Pintuck Dress\" class=\"tile-image lazyload\" data-src=\"https://media.capeunionmart.co.za/i/poetrystores/102570065_C78_2?$large_PROD$\" title=\"Poetry Everleigh Printed Pintuck Dress -  olive\"/>,\n",
       " <img alt=\"Poetry Serenity Knit Dress\" class=\"tile-image lazyload\" data-src=\"https://media.capeunionmart.co.za/i/poetrystores/101670093_C54_1?$large_PROD$\" title=\"Poetry Serenity Knit Dress -  blue\"/>,\n",
       " <img alt=\"Poetry Serenity Knit Dress\" class=\"tile-image lazyload\" data-src=\"https://media.capeunionmart.co.za/i/poetrystores/101670093_C54_2?$large_PROD$\" title=\"Poetry Serenity Knit Dress -  blue\"/>,\n",
       " <img alt=\"Rosella Scallop Dress\" class=\"tile-image lazyload\" data-src=\"https://media.capeunionmart.co.za/i/poetrystores/101180024_C09_1?$large_PROD$\" title=\"Rosella Scallop Dress -  white\"/>,\n",
       " <img alt=\"Rosella Scallop Dress\" class=\"tile-image lazyload\" data-src=\"https://media.capeunionmart.co.za/i/poetrystores/101180024_C09_2?$large_PROD$\" title=\"Rosella Scallop Dress -  white\"/>]"
      ]
     },
     "execution_count": 6,
     "metadata": {},
     "output_type": "execute_result"
    }
   ],
   "source": [
    "images\n"
   ]
  },
  {
   "cell_type": "code",
   "execution_count": 10,
   "id": "7a8f1cb4-bd2b-4fcb-ba6b-d047ca1afd3c",
   "metadata": {},
   "outputs": [
    {
     "data": {
      "text/plain": [
       "'https://media.capeunionmart.co.za/i/poetrystores/102805074_C25_1?$large_PROD$'"
      ]
     },
     "execution_count": 10,
     "metadata": {},
     "output_type": "execute_result"
    }
   ],
   "source": [
    "images[0]['data-src']"
   ]
  },
  {
   "cell_type": "code",
   "execution_count": 11,
   "id": "5034524c-db11-4505-be8b-9d952fe344f7",
   "metadata": {},
   "outputs": [],
   "source": [
    "image_url = images[0]['data-src']\n",
    "image_filename = os.path.basename(image_url)\n",
    "image_filename = re.sub(r'[?]', '_', image_filename)"
   ]
  },
  {
   "cell_type": "code",
   "execution_count": 12,
   "id": "f33fd555-816a-40c7-aaaa-14486fdbf52c",
   "metadata": {},
   "outputs": [
    {
     "data": {
      "text/plain": [
       "'102805074_C25_1_$large_PROD$'"
      ]
     },
     "execution_count": 12,
     "metadata": {},
     "output_type": "execute_result"
    }
   ],
   "source": [
    "image_filename"
   ]
  },
  {
   "cell_type": "code",
   "execution_count": 17,
   "id": "b7bdc4eb-4fb6-42aa-918b-836e216eb266",
   "metadata": {},
   "outputs": [
    {
     "data": {
      "text/plain": [
       "'https://www.poetrystores.co.za/c/clothing-dresses-a-line/#103460143-C21'"
      ]
     },
     "execution_count": 17,
     "metadata": {},
     "output_type": "execute_result"
    }
   ],
   "source": [
    "url"
   ]
  },
  {
   "cell_type": "code",
   "execution_count": 28,
   "id": "8c9c3834-1f42-45b2-84c0-97c501304ba0",
   "metadata": {},
   "outputs": [],
   "source": [
    "url = \"https://media.capeunionmart.co.za/i/poetrystores/102805074_C25_1?$large_PROD$.jpg\"\n",
    "\n",
    "# Gửi yêu cầu HTTP để lấy dữ liệu ảnh từ URL\n",
    "response = requests.get(url)"
   ]
  },
  {
   "cell_type": "code",
   "execution_count": 29,
   "id": "8afea9a1-bccd-4b92-be95-7e3dcb4b6fc1",
   "metadata": {},
   "outputs": [
    {
     "data": {
      "text/plain": [
       "<Response [403]>"
      ]
     },
     "execution_count": 29,
     "metadata": {},
     "output_type": "execute_result"
    }
   ],
   "source": [
    "response"
   ]
  },
  {
   "cell_type": "code",
   "execution_count": 23,
   "id": "6bd7e2ae-7636-4b44-a2d5-3da9a5796fe8",
   "metadata": {},
   "outputs": [],
   "source": [
    "image_url = 'https://media.capeunionmart.co.za/i/poetrystores/102805074_C25_1?$large_PROD$'\n",
    "img_data = requests.get(image_url).content\n",
    "with open('image_name.jpg', 'wb') as handler:\n",
    "    handler.write(img_data)"
   ]
  },
  {
   "cell_type": "code",
   "execution_count": 20,
   "id": "a5fbf0a7-e35c-402b-bfbe-7612b909500f",
   "metadata": {},
   "outputs": [
    {
     "name": "stdout",
     "output_type": "stream",
     "text": [
      "https://www.poetrystores.co.za/c/clothing-dresses-a-line/#103460143-C21\n",
      "https://media.capeunionmart.co.za/i/poetrystores/102805074_C25_1?$large_PROD$\n",
      "https://www.poetrystores.co.za/c/clothing-dresses-a-line/#103460143-C21https://media.capeunionmart.co.za/i/poetrystores/102805074_C25_1?$large_PROD$\n",
      "số ảnh 0\n"
     ]
    }
   ],
   "source": [
    "i = 0\n",
    "for image in images:\n",
    "        # Lấy URL của hình ảnh\n",
    "        \n",
    "        image_url = image['data-src']\n",
    "\n",
    "        # Lấy tên tệp tin từ URL\n",
    "        image_filename = os.path.basename(image_url)\n",
    "        image_filename = re.sub(r'[?]', '_', image_filename)\n",
    "\n",
    "        \n",
    "\n",
    "        # Tạo URL tuyệt đối của hình ảnh\n",
    "        absolute_image_url = url + image_url\n",
    "        print(url)\n",
    "        print(image_url)\n",
    "        print(absolute_image_url)\n",
    "        break\n",
    "\n",
    "        # Gửi yêu cầu GET đến URL của hình ảnh\n",
    "        image_response = requests.get(absolute_image_url)\n",
    "\n",
    "        # # Kiểm tra xem yêu cầu thành công hay không\n",
    "        # image_path = os.path.join(folder_path, f'{image_filename}.jpg')\n",
    "        if image_response.status_code == 200:\n",
    "            # Lưu hình ảnh xuống thư mục 'images'\n",
    "            with open({'images/Dress/' + image_filename}, 'wb') as f:\n",
    "                f.write(image_response.content)\n",
    "\n",
    "            print(f\"Lưu ảnh {image_filename} thành công.\")\n",
    "            i+=1\n",
    "        else:\n",
    "            print(f\"Lưu ảnh {image_filename} thất bại.\")\n",
    "else:\n",
    "    print(\"Yêu cầu không thành công.\")\n",
    "    \n",
    "print('số ảnh', i)"
   ]
  },
  {
   "cell_type": "code",
   "execution_count": 21,
   "id": "dc8a98c7-def6-4aa0-a0c0-ef7085800ef3",
   "metadata": {},
   "outputs": [
    {
     "ename": "UnidentifiedImageError",
     "evalue": "cannot identify image file 'images/Dress\\\\102805074_C25_1_$large_PROD$.jpg'",
     "output_type": "error",
     "traceback": [
      "\u001b[1;31m---------------------------------------------------------------------------\u001b[0m",
      "\u001b[1;31mUnidentifiedImageError\u001b[0m                    Traceback (most recent call last)",
      "Input \u001b[1;32mIn [21]\u001b[0m, in \u001b[0;36m<cell line: 12>\u001b[1;34m()\u001b[0m\n\u001b[0;32m     33\u001b[0m     f\u001b[38;5;241m.\u001b[39mwrite(image_response\u001b[38;5;241m.\u001b[39mcontent)\n\u001b[0;32m     35\u001b[0m \u001b[38;5;66;03m# Mở hình ảnh với Pillow\u001b[39;00m\n\u001b[1;32m---> 36\u001b[0m img \u001b[38;5;241m=\u001b[39m \u001b[43mImage\u001b[49m\u001b[38;5;241;43m.\u001b[39;49m\u001b[43mopen\u001b[49m\u001b[43m(\u001b[49m\u001b[43mimage_path\u001b[49m\u001b[43m)\u001b[49m\n\u001b[0;32m     38\u001b[0m \u001b[38;5;66;03m# Lưu hình ảnh dưới dạng JPG\u001b[39;00m\n\u001b[0;32m     39\u001b[0m img\u001b[38;5;241m.\u001b[39msave(image_path, \u001b[38;5;124m'\u001b[39m\u001b[38;5;124mJPEG\u001b[39m\u001b[38;5;124m'\u001b[39m)\n",
      "File \u001b[1;32m~\\Anaconda3\\lib\\site-packages\\PIL\\Image.py:3008\u001b[0m, in \u001b[0;36mopen\u001b[1;34m(fp, mode, formats)\u001b[0m\n\u001b[0;32m   3006\u001b[0m \u001b[38;5;28;01mfor\u001b[39;00m message \u001b[38;5;129;01min\u001b[39;00m accept_warnings:\n\u001b[0;32m   3007\u001b[0m     warnings\u001b[38;5;241m.\u001b[39mwarn(message)\n\u001b[1;32m-> 3008\u001b[0m \u001b[38;5;28;01mraise\u001b[39;00m UnidentifiedImageError(\n\u001b[0;32m   3009\u001b[0m     \u001b[38;5;124m\"\u001b[39m\u001b[38;5;124mcannot identify image file \u001b[39m\u001b[38;5;132;01m%r\u001b[39;00m\u001b[38;5;124m\"\u001b[39m \u001b[38;5;241m%\u001b[39m (filename \u001b[38;5;28;01mif\u001b[39;00m filename \u001b[38;5;28;01melse\u001b[39;00m fp)\n\u001b[0;32m   3010\u001b[0m )\n",
      "\u001b[1;31mUnidentifiedImageError\u001b[0m: cannot identify image file 'images/Dress\\\\102805074_C25_1_$large_PROD$.jpg'"
     ]
    }
   ],
   "source": [
    "import requests\n",
    "import os\n",
    "from PIL import Image\n",
    "import re\n",
    "\n",
    "# Tạo thư mục để lưu ảnh\n",
    "if not os.path.exists('images/Dress'):\n",
    "    os.makedirs('images/Dress')\n",
    "\n",
    "i = 0\n",
    "\n",
    "for image in images:\n",
    "    # Lấy URL của hình ảnh\n",
    "    image_url = image['data-src']\n",
    "\n",
    "    # Lấy tên tệp tin từ URL\n",
    "    image_filename = os.path.basename(image_url)\n",
    "    image_filename = re.sub(r'[?]', '_', image_filename)\n",
    "    image_filename = os.path.splitext(image_filename)[0] + '.jpg'\n",
    "\n",
    "    # Tạo URL tuyệt đối của hình ảnh\n",
    "    absolute_image_url = url + image_url\n",
    "\n",
    "    # Gửi yêu cầu GET đến URL của hình ảnh\n",
    "    image_response = requests.get(absolute_image_url)\n",
    "\n",
    "    if image_response.status_code == 200:\n",
    "        # Lưu hình ảnh xuống thư mục 'images/Dress'\n",
    "        image_path = os.path.join('images/Dress', image_filename)\n",
    "        \n",
    "        # Ghi nội dung của hình ảnh vào tệp tin\n",
    "        with open(image_path, 'wb') as f:\n",
    "            f.write(image_response.content)\n",
    "\n",
    "        # Mở hình ảnh với Pillow\n",
    "        img = Image.open(image_path)\n",
    "\n",
    "        # Lưu hình ảnh dưới dạng JPG\n",
    "        img.save(image_path, 'JPEG')\n",
    "\n",
    "        print(f\"Lưu ảnh {image_filename} thành công.\")\n",
    "        i += 1\n",
    "    else:\n",
    "        print(f\"Lưu ảnh {image_filename} thất bại.\")\n",
    "\n",
    "print(f\"Tổng số ảnh đã lưu: {i}\")\n"
   ]
  },
  {
   "cell_type": "code",
   "execution_count": 22,
   "id": "684fe0f8-11ec-468b-87a8-330b29c8bcce",
   "metadata": {},
   "outputs": [
    {
     "name": "stdout",
     "output_type": "stream",
     "text": [
      "Lưu ảnh 102805074_C25_1_$large_PROD$.jpg thất bại: cannot identify image file 'images/Dress\\\\102805074_C25_1_$large_PROD$.jpg'\n",
      "Lưu ảnh 102805074_C25_2_$large_PROD$.jpg thất bại: cannot identify image file 'images/Dress\\\\102805074_C25_2_$large_PROD$.jpg'\n",
      "Lưu ảnh 103550205_C78_1_$large_PROD$.jpg thất bại: cannot identify image file 'images/Dress\\\\103550205_C78_1_$large_PROD$.jpg'\n",
      "Lưu ảnh 103550205_C78_2_$large_PROD$.jpg thất bại: cannot identify image file 'images/Dress\\\\103550205_C78_2_$large_PROD$.jpg'\n",
      "Lưu ảnh 103340148_C01_1_$large_PROD$.jpg thất bại: cannot identify image file 'images/Dress\\\\103340148_C01_1_$large_PROD$.jpg'\n",
      "Lưu ảnh 103340148_C01_2_$large_PROD$.jpg thất bại: cannot identify image file 'images/Dress\\\\103340148_C01_2_$large_PROD$.jpg'\n",
      "Lưu ảnh 103340148_C61_1_$large_PROD$.jpg thất bại: cannot identify image file 'images/Dress\\\\103340148_C61_1_$large_PROD$.jpg'\n",
      "Lưu ảnh 103340148_C61_2_$large_PROD$.jpg thất bại: cannot identify image file 'images/Dress\\\\103340148_C61_2_$large_PROD$.jpg'\n",
      "Lưu ảnh 103340148_C72_1_$large_PROD$.jpg thất bại: cannot identify image file 'images/Dress\\\\103340148_C72_1_$large_PROD$.jpg'\n",
      "Lưu ảnh 103340148_C72_2_$large_PROD$.jpg thất bại: cannot identify image file 'images/Dress\\\\103340148_C72_2_$large_PROD$.jpg'\n",
      "Lưu ảnh 103185765_C69_1_$large_PROD$.jpg thất bại: cannot identify image file 'images/Dress\\\\103185765_C69_1_$large_PROD$.jpg'\n",
      "Lưu ảnh 103185765_C69_2_$large_PROD$.jpg thất bại: cannot identify image file 'images/Dress\\\\103185765_C69_2_$large_PROD$.jpg'\n",
      "Lưu ảnh 103340148_C95_1_$large_PROD$.jpg thất bại: cannot identify image file 'images/Dress\\\\103340148_C95_1_$large_PROD$.jpg'\n",
      "Lưu ảnh 103340148_C95_2_$large_PROD$.jpg thất bại: cannot identify image file 'images/Dress\\\\103340148_C95_2_$large_PROD$.jpg'\n",
      "Lưu ảnh 103340190_C99_1_$large_PROD$.jpg thất bại: cannot identify image file 'images/Dress\\\\103340190_C99_1_$large_PROD$.jpg'\n",
      "Lưu ảnh 103340190_C99_2_$large_PROD$.jpg thất bại: cannot identify image file 'images/Dress\\\\103340190_C99_2_$large_PROD$.jpg'\n",
      "Lưu ảnh 103455077_C27_1_$large_PROD$.jpg thất bại: cannot identify image file 'images/Dress\\\\103455077_C27_1_$large_PROD$.jpg'\n",
      "Lưu ảnh 103455077_C27_2_$large_PROD$.jpg thất bại: cannot identify image file 'images/Dress\\\\103455077_C27_2_$large_PROD$.jpg'\n",
      "Lưu ảnh 103020225_C01_1_$large_PROD$.jpg thất bại: cannot identify image file 'images/Dress\\\\103020225_C01_1_$large_PROD$.jpg'\n",
      "Lưu ảnh 103020225_C01_2_$large_PROD$.jpg thất bại: cannot identify image file 'images/Dress\\\\103020225_C01_2_$large_PROD$.jpg'\n",
      "Lưu ảnh 103435173_C78_1_$large_PROD$.jpg thất bại: cannot identify image file 'images/Dress\\\\103435173_C78_1_$large_PROD$.jpg'\n",
      "Lưu ảnh 103435173_C78_2_$large_PROD$.jpg thất bại: cannot identify image file 'images/Dress\\\\103435173_C78_2_$large_PROD$.jpg'\n",
      "Lưu ảnh 103350089_C99_1_$large_PROD$.jpg thất bại: cannot identify image file 'images/Dress\\\\103350089_C99_1_$large_PROD$.jpg'\n",
      "Lưu ảnh 103350089_C99_2_$large_PROD$.jpg thất bại: cannot identify image file 'images/Dress\\\\103350089_C99_2_$large_PROD$.jpg'\n",
      "Lưu ảnh 103020225_C09_1_$large_PROD$.jpg thất bại: cannot identify image file 'images/Dress\\\\103020225_C09_1_$large_PROD$.jpg'\n",
      "Lưu ảnh 103020225_C09_2_$large_PROD$.jpg thất bại: cannot identify image file 'images/Dress\\\\103020225_C09_2_$large_PROD$.jpg'\n",
      "Lưu ảnh 103410120_C78_1_$large_PROD$.jpg thất bại: cannot identify image file 'images/Dress\\\\103410120_C78_1_$large_PROD$.jpg'\n",
      "Lưu ảnh 103410120_C78_2_$large_PROD$.jpg thất bại: cannot identify image file 'images/Dress\\\\103410120_C78_2_$large_PROD$.jpg'\n",
      "Lưu ảnh 103185226_C33_1_$large_PROD$.jpg thất bại: cannot identify image file 'images/Dress\\\\103185226_C33_1_$large_PROD$.jpg'\n",
      "Lưu ảnh 103185226_C33_2_$large_PROD$.jpg thất bại: cannot identify image file 'images/Dress\\\\103185226_C33_2_$large_PROD$.jpg'\n",
      "Lưu ảnh 102890085_C99_1_$large_PROD$.jpg thất bại: cannot identify image file 'images/Dress\\\\102890085_C99_1_$large_PROD$.jpg'\n",
      "Lưu ảnh 102890085_C99_2_$large_PROD$.jpg thất bại: cannot identify image file 'images/Dress\\\\102890085_C99_2_$large_PROD$.jpg'\n",
      "Lưu ảnh 103185238_C23_1_$large_PROD$.jpg thất bại: cannot identify image file 'images/Dress\\\\103185238_C23_1_$large_PROD$.jpg'\n",
      "Lưu ảnh 103185238_C23_2_$large_PROD$.jpg thất bại: cannot identify image file 'images/Dress\\\\103185238_C23_2_$large_PROD$.jpg'\n",
      "Lưu ảnh 103205179_C94_1_$large_PROD$.jpg thất bại: cannot identify image file 'images/Dress\\\\103205179_C94_1_$large_PROD$.jpg'\n",
      "Lưu ảnh 103205179_C94_2_$large_PROD$.jpg thất bại: cannot identify image file 'images/Dress\\\\103205179_C94_2_$large_PROD$.jpg'\n",
      "Lưu ảnh 103205179_C10_1_$large_PROD$.jpg thất bại: cannot identify image file 'images/Dress\\\\103205179_C10_1_$large_PROD$.jpg'\n",
      "Lưu ảnh 103205179_C10_2_$large_PROD$.jpg thất bại: cannot identify image file 'images/Dress\\\\103205179_C10_2_$large_PROD$.jpg'\n"
     ]
    },
    {
     "ename": "KeyboardInterrupt",
     "evalue": "",
     "output_type": "error",
     "traceback": [
      "\u001b[1;31m---------------------------------------------------------------------------\u001b[0m",
      "\u001b[1;31mKeyboardInterrupt\u001b[0m                         Traceback (most recent call last)",
      "Input \u001b[1;32mIn [22]\u001b[0m, in \u001b[0;36m<cell line: 12>\u001b[1;34m()\u001b[0m\n\u001b[0;32m     33\u001b[0m     f\u001b[38;5;241m.\u001b[39mwrite(image_response\u001b[38;5;241m.\u001b[39mcontent)\n\u001b[0;32m     35\u001b[0m \u001b[38;5;28;01mtry\u001b[39;00m:\n\u001b[0;32m     36\u001b[0m     \u001b[38;5;66;03m# Mở hình ảnh với Pillow\u001b[39;00m\n\u001b[1;32m---> 37\u001b[0m     img \u001b[38;5;241m=\u001b[39m \u001b[43mImage\u001b[49m\u001b[38;5;241;43m.\u001b[39;49m\u001b[43mopen\u001b[49m\u001b[43m(\u001b[49m\u001b[43mimage_path\u001b[49m\u001b[43m)\u001b[49m\n\u001b[0;32m     39\u001b[0m     \u001b[38;5;66;03m# Kiểm tra nếu định dạng không phải JPG thì chuyển đổi\u001b[39;00m\n\u001b[0;32m     40\u001b[0m     \u001b[38;5;28;01mif\u001b[39;00m img\u001b[38;5;241m.\u001b[39mformat \u001b[38;5;241m!=\u001b[39m \u001b[38;5;124m'\u001b[39m\u001b[38;5;124mJPEG\u001b[39m\u001b[38;5;124m'\u001b[39m:\n",
      "File \u001b[1;32m~\\Anaconda3\\lib\\site-packages\\PIL\\Image.py:2953\u001b[0m, in \u001b[0;36mopen\u001b[1;34m(fp, mode, formats)\u001b[0m\n\u001b[0;32m   2950\u001b[0m     filename \u001b[38;5;241m=\u001b[39m fp\n\u001b[0;32m   2952\u001b[0m \u001b[38;5;28;01mif\u001b[39;00m filename:\n\u001b[1;32m-> 2953\u001b[0m     fp \u001b[38;5;241m=\u001b[39m \u001b[43mbuiltins\u001b[49m\u001b[38;5;241;43m.\u001b[39;49m\u001b[43mopen\u001b[49m\u001b[43m(\u001b[49m\u001b[43mfilename\u001b[49m\u001b[43m,\u001b[49m\u001b[43m \u001b[49m\u001b[38;5;124;43m\"\u001b[39;49m\u001b[38;5;124;43mrb\u001b[39;49m\u001b[38;5;124;43m\"\u001b[39;49m\u001b[43m)\u001b[49m\n\u001b[0;32m   2954\u001b[0m     exclusive_fp \u001b[38;5;241m=\u001b[39m \u001b[38;5;28;01mTrue\u001b[39;00m\n\u001b[0;32m   2956\u001b[0m \u001b[38;5;28;01mtry\u001b[39;00m:\n",
      "\u001b[1;31mKeyboardInterrupt\u001b[0m: "
     ]
    }
   ],
   "source": [
    "import requests\n",
    "import os\n",
    "from PIL import Image\n",
    "import re\n",
    "\n",
    "# Tạo thư mục để lưu ảnh\n",
    "if not os.path.exists('images/Dress'):\n",
    "    os.makedirs('images/Dress')\n",
    "\n",
    "i = 0\n",
    "\n",
    "for image in images:\n",
    "    # Lấy URL của hình ảnh\n",
    "    image_url = image['data-src']\n",
    "\n",
    "    # Lấy tên tệp tin từ URL\n",
    "    image_filename = os.path.basename(image_url)\n",
    "    image_filename = re.sub(r'[?]', '_', image_filename)\n",
    "    image_filename = os.path.splitext(image_filename)[0] + '.jpg'\n",
    "\n",
    "    # Tạo URL tuyệt đối của hình ảnh\n",
    "    absolute_image_url = url + image_url\n",
    "\n",
    "    # Gửi yêu cầu GET đến URL của hình ảnh\n",
    "    image_response = requests.get(absolute_image_url)\n",
    "\n",
    "    if image_response.status_code == 200:\n",
    "        # Lưu hình ảnh xuống thư mục 'images/Dress'\n",
    "        image_path = os.path.join('images/Dress', image_filename)\n",
    "        \n",
    "        # Ghi nội dung của hình ảnh vào tệp tin\n",
    "        with open(image_path, 'wb') as f:\n",
    "            f.write(image_response.content)\n",
    "\n",
    "        try:\n",
    "            # Mở hình ảnh với Pillow\n",
    "            img = Image.open(image_path)\n",
    "\n",
    "            # Kiểm tra nếu định dạng không phải JPG thì chuyển đổi\n",
    "            if img.format != 'JPEG':\n",
    "                img = img.convert('RGB')\n",
    "                img.save(image_path, 'JPEG')\n",
    "        except Exception as e:\n",
    "            print(f\"Lưu ảnh {image_filename} thất bại: {str(e)}\")\n",
    "            continue\n",
    "\n",
    "        print(f\"Lưu ảnh {image_filename} thành công.\")\n",
    "        i += 1\n",
    "    else:\n",
    "        print(f\"Lưu ảnh {image_filename} thất bại.\")\n",
    "\n",
    "print(f\"Tổng số ảnh đã lưu: {i}\")\n"
   ]
  },
  {
   "cell_type": "code",
   "execution_count": 23,
   "id": "6ffc80d5-0dc5-433d-a441-b19cae0181c8",
   "metadata": {},
   "outputs": [
    {
     "name": "stdout",
     "output_type": "stream",
     "text": [
      "Lưu ảnh 102805074_C25_1_$large_PROD$.jpg thất bại: cannot identify image file 'images/Dress\\\\102805074_C25_1_$large_PROD$.jpg'\n",
      "Lưu ảnh 102805074_C25_2_$large_PROD$.jpg thất bại: cannot identify image file 'images/Dress\\\\102805074_C25_2_$large_PROD$.jpg'\n",
      "Lưu ảnh 103550205_C78_1_$large_PROD$.jpg thất bại: cannot identify image file 'images/Dress\\\\103550205_C78_1_$large_PROD$.jpg'\n",
      "Lưu ảnh 103550205_C78_2_$large_PROD$.jpg thất bại: cannot identify image file 'images/Dress\\\\103550205_C78_2_$large_PROD$.jpg'\n",
      "Lưu ảnh 103340148_C01_1_$large_PROD$.jpg thất bại: cannot identify image file 'images/Dress\\\\103340148_C01_1_$large_PROD$.jpg'\n",
      "Lưu ảnh 103340148_C01_2_$large_PROD$.jpg thất bại: cannot identify image file 'images/Dress\\\\103340148_C01_2_$large_PROD$.jpg'\n",
      "Lưu ảnh 103340148_C61_1_$large_PROD$.jpg thất bại: cannot identify image file 'images/Dress\\\\103340148_C61_1_$large_PROD$.jpg'\n",
      "Lưu ảnh 103340148_C61_2_$large_PROD$.jpg thất bại: cannot identify image file 'images/Dress\\\\103340148_C61_2_$large_PROD$.jpg'\n",
      "Lưu ảnh 103340148_C72_1_$large_PROD$.jpg thất bại: cannot identify image file 'images/Dress\\\\103340148_C72_1_$large_PROD$.jpg'\n",
      "Lưu ảnh 103340148_C72_2_$large_PROD$.jpg thất bại: cannot identify image file 'images/Dress\\\\103340148_C72_2_$large_PROD$.jpg'\n",
      "Lưu ảnh 103185765_C69_1_$large_PROD$.jpg thất bại: cannot identify image file 'images/Dress\\\\103185765_C69_1_$large_PROD$.jpg'\n",
      "Lưu ảnh 103185765_C69_2_$large_PROD$.jpg thất bại: cannot identify image file 'images/Dress\\\\103185765_C69_2_$large_PROD$.jpg'\n",
      "Lưu ảnh 103340148_C95_1_$large_PROD$.jpg thất bại: cannot identify image file 'images/Dress\\\\103340148_C95_1_$large_PROD$.jpg'\n",
      "Lưu ảnh 103340148_C95_2_$large_PROD$.jpg thất bại: cannot identify image file 'images/Dress\\\\103340148_C95_2_$large_PROD$.jpg'\n",
      "Lưu ảnh 103340190_C99_1_$large_PROD$.jpg thất bại: cannot identify image file 'images/Dress\\\\103340190_C99_1_$large_PROD$.jpg'\n",
      "Lưu ảnh 103340190_C99_2_$large_PROD$.jpg thất bại: cannot identify image file 'images/Dress\\\\103340190_C99_2_$large_PROD$.jpg'\n",
      "Lưu ảnh 103455077_C27_1_$large_PROD$.jpg thất bại: cannot identify image file 'images/Dress\\\\103455077_C27_1_$large_PROD$.jpg'\n",
      "Lưu ảnh 103455077_C27_2_$large_PROD$.jpg thất bại: cannot identify image file 'images/Dress\\\\103455077_C27_2_$large_PROD$.jpg'\n",
      "Lưu ảnh 103020225_C01_1_$large_PROD$.jpg thất bại: cannot identify image file 'images/Dress\\\\103020225_C01_1_$large_PROD$.jpg'\n",
      "Lưu ảnh 103020225_C01_2_$large_PROD$.jpg thất bại: cannot identify image file 'images/Dress\\\\103020225_C01_2_$large_PROD$.jpg'\n",
      "Lưu ảnh 103435173_C78_1_$large_PROD$.jpg thất bại: cannot identify image file 'images/Dress\\\\103435173_C78_1_$large_PROD$.jpg'\n",
      "Lưu ảnh 103435173_C78_2_$large_PROD$.jpg thất bại: cannot identify image file 'images/Dress\\\\103435173_C78_2_$large_PROD$.jpg'\n",
      "Lưu ảnh 103350089_C99_1_$large_PROD$.jpg thất bại: cannot identify image file 'images/Dress\\\\103350089_C99_1_$large_PROD$.jpg'\n",
      "Lưu ảnh 103350089_C99_2_$large_PROD$.jpg thất bại: cannot identify image file 'images/Dress\\\\103350089_C99_2_$large_PROD$.jpg'\n",
      "Lưu ảnh 103020225_C09_1_$large_PROD$.jpg thất bại: cannot identify image file 'images/Dress\\\\103020225_C09_1_$large_PROD$.jpg'\n",
      "Lưu ảnh 103020225_C09_2_$large_PROD$.jpg thất bại: cannot identify image file 'images/Dress\\\\103020225_C09_2_$large_PROD$.jpg'\n",
      "Lưu ảnh 103410120_C78_1_$large_PROD$.jpg thất bại: cannot identify image file 'images/Dress\\\\103410120_C78_1_$large_PROD$.jpg'\n",
      "Lưu ảnh 103410120_C78_2_$large_PROD$.jpg thất bại: cannot identify image file 'images/Dress\\\\103410120_C78_2_$large_PROD$.jpg'\n",
      "Lưu ảnh 103185226_C33_1_$large_PROD$.jpg thất bại: cannot identify image file 'images/Dress\\\\103185226_C33_1_$large_PROD$.jpg'\n",
      "Lưu ảnh 103185226_C33_2_$large_PROD$.jpg thất bại: cannot identify image file 'images/Dress\\\\103185226_C33_2_$large_PROD$.jpg'\n",
      "Lưu ảnh 102890085_C99_1_$large_PROD$.jpg thất bại: cannot identify image file 'images/Dress\\\\102890085_C99_1_$large_PROD$.jpg'\n",
      "Lưu ảnh 102890085_C99_2_$large_PROD$.jpg thất bại: cannot identify image file 'images/Dress\\\\102890085_C99_2_$large_PROD$.jpg'\n",
      "Lưu ảnh 103185238_C23_1_$large_PROD$.jpg thất bại: cannot identify image file 'images/Dress\\\\103185238_C23_1_$large_PROD$.jpg'\n",
      "Lưu ảnh 103185238_C23_2_$large_PROD$.jpg thất bại: cannot identify image file 'images/Dress\\\\103185238_C23_2_$large_PROD$.jpg'\n",
      "Lưu ảnh 103205179_C94_1_$large_PROD$.jpg thất bại: cannot identify image file 'images/Dress\\\\103205179_C94_1_$large_PROD$.jpg'\n",
      "Lưu ảnh 103205179_C94_2_$large_PROD$.jpg thất bại: cannot identify image file 'images/Dress\\\\103205179_C94_2_$large_PROD$.jpg'\n",
      "Lưu ảnh 103205179_C10_1_$large_PROD$.jpg thất bại: cannot identify image file 'images/Dress\\\\103205179_C10_1_$large_PROD$.jpg'\n",
      "Lưu ảnh 103205179_C10_2_$large_PROD$.jpg thất bại: cannot identify image file 'images/Dress\\\\103205179_C10_2_$large_PROD$.jpg'\n",
      "Lưu ảnh 101925405_C01_1_$large_PROD$.jpg thất bại: cannot identify image file 'images/Dress\\\\101925405_C01_1_$large_PROD$.jpg'\n",
      "Lưu ảnh 101925405_C01_2_$large_PROD$.jpg thất bại: cannot identify image file 'images/Dress\\\\101925405_C01_2_$large_PROD$.jpg'\n",
      "Lưu ảnh 103185588_C61_1_$large_PROD$.jpg thất bại: cannot identify image file 'images/Dress\\\\103185588_C61_1_$large_PROD$.jpg'\n",
      "Lưu ảnh 103185588_C61_2_$large_PROD$.jpg thất bại: cannot identify image file 'images/Dress\\\\103185588_C61_2_$large_PROD$.jpg'\n",
      "Lưu ảnh 102850203_C54_1_$large_PROD$.jpg thất bại: cannot identify image file 'images/Dress\\\\102850203_C54_1_$large_PROD$.jpg'\n",
      "Lưu ảnh 102850203_C54_2_$large_PROD$.jpg thất bại: cannot identify image file 'images/Dress\\\\102850203_C54_2_$large_PROD$.jpg'\n",
      "Lưu ảnh 103195071_C09_1_$large_PROD$.jpg thất bại: cannot identify image file 'images/Dress\\\\103195071_C09_1_$large_PROD$.jpg'\n",
      "Lưu ảnh 103195071_C09_2_$large_PROD$.jpg thất bại: cannot identify image file 'images/Dress\\\\103195071_C09_2_$large_PROD$.jpg'\n",
      "Lưu ảnh 103195071_C69_1_$large_PROD$.jpg thất bại: cannot identify image file 'images/Dress\\\\103195071_C69_1_$large_PROD$.jpg'\n",
      "Lưu ảnh 103195071_C69_2_$large_PROD$.jpg thất bại: cannot identify image file 'images/Dress\\\\103195071_C69_2_$large_PROD$.jpg'\n",
      "Lưu ảnh 102925116_C69_1_$large_PROD$.jpg thất bại: cannot identify image file 'images/Dress\\\\102925116_C69_1_$large_PROD$.jpg'\n",
      "Lưu ảnh 102925116_C69_2_$large_PROD$.jpg thất bại: cannot identify image file 'images/Dress\\\\102925116_C69_2_$large_PROD$.jpg'\n",
      "Lưu ảnh 103460128_C23_1_$large_PROD$.jpg thất bại: cannot identify image file 'images/Dress\\\\103460128_C23_1_$large_PROD$.jpg'\n",
      "Lưu ảnh 103460128_C23_2_$large_PROD$.jpg thất bại: cannot identify image file 'images/Dress\\\\103460128_C23_2_$large_PROD$.jpg'\n",
      "Lưu ảnh 102910277_C33_1_$large_PROD$.jpg thất bại: cannot identify image file 'images/Dress\\\\102910277_C33_1_$large_PROD$.jpg'\n",
      "Lưu ảnh 102910277_C33_2_$large_PROD$.jpg thất bại: cannot identify image file 'images/Dress\\\\102910277_C33_2_$large_PROD$.jpg'\n",
      "Lưu ảnh 103185553_C33_1_$large_PROD$.jpg thất bại: cannot identify image file 'images/Dress\\\\103185553_C33_1_$large_PROD$.jpg'\n",
      "Lưu ảnh 103185553_C33_2_$large_PROD$.jpg thất bại: cannot identify image file 'images/Dress\\\\103185553_C33_2_$large_PROD$.jpg'\n",
      "Lưu ảnh 102740088_C09_1_$large_PROD$.jpg thất bại: cannot identify image file 'images/Dress\\\\102740088_C09_1_$large_PROD$.jpg'\n",
      "Lưu ảnh 102740088_C09_2_$large_PROD$.jpg thất bại: cannot identify image file 'images/Dress\\\\102740088_C09_2_$large_PROD$.jpg'\n",
      "Lưu ảnh 102735281_C43_1_$large_PROD$.jpg thất bại: cannot identify image file 'images/Dress\\\\102735281_C43_1_$large_PROD$.jpg'\n",
      "Lưu ảnh 102735281_C43_2_$large_PROD$.jpg thất bại: cannot identify image file 'images/Dress\\\\102735281_C43_2_$large_PROD$.jpg'\n",
      "Lưu ảnh 103185208_C99_1_$large_PROD$.jpg thất bại: cannot identify image file 'images/Dress\\\\103185208_C99_1_$large_PROD$.jpg'\n",
      "Lưu ảnh 103185208_C99_2_$large_PROD$.jpg thất bại: cannot identify image file 'images/Dress\\\\103185208_C99_2_$large_PROD$.jpg'\n",
      "Lưu ảnh 103115165_C23_1_$large_PROD$.jpg thất bại: cannot identify image file 'images/Dress\\\\103115165_C23_1_$large_PROD$.jpg'\n",
      "Lưu ảnh 103115165_C23_2_$large_PROD$.jpg thất bại: cannot identify image file 'images/Dress\\\\103115165_C23_2_$large_PROD$.jpg'\n",
      "Lưu ảnh 102745193_C01_1_$large_PROD$.jpg thất bại: cannot identify image file 'images/Dress\\\\102745193_C01_1_$large_PROD$.jpg'\n"
     ]
    },
    {
     "ename": "KeyboardInterrupt",
     "evalue": "",
     "output_type": "error",
     "traceback": [
      "\u001b[1;31m---------------------------------------------------------------------------\u001b[0m",
      "\u001b[1;31mKeyboardInterrupt\u001b[0m                         Traceback (most recent call last)",
      "Input \u001b[1;32mIn [23]\u001b[0m, in \u001b[0;36m<cell line: 12>\u001b[1;34m()\u001b[0m\n\u001b[0;32m     33\u001b[0m     f\u001b[38;5;241m.\u001b[39mwrite(image_response\u001b[38;5;241m.\u001b[39mcontent)\n\u001b[0;32m     35\u001b[0m \u001b[38;5;28;01mtry\u001b[39;00m:\n\u001b[0;32m     36\u001b[0m     \u001b[38;5;66;03m# Mở hình ảnh với Pillow\u001b[39;00m\n\u001b[1;32m---> 37\u001b[0m     img \u001b[38;5;241m=\u001b[39m \u001b[43mImage\u001b[49m\u001b[38;5;241;43m.\u001b[39;49m\u001b[43mopen\u001b[49m\u001b[43m(\u001b[49m\u001b[43mimage_path\u001b[49m\u001b[43m)\u001b[49m\n\u001b[0;32m     39\u001b[0m     \u001b[38;5;66;03m# Kiểm tra nếu định dạng không phải JPG thì chuyển đổi\u001b[39;00m\n\u001b[0;32m     40\u001b[0m     \u001b[38;5;28;01mif\u001b[39;00m img\u001b[38;5;241m.\u001b[39mformat \u001b[38;5;241m!=\u001b[39m \u001b[38;5;124m'\u001b[39m\u001b[38;5;124mJPEG\u001b[39m\u001b[38;5;124m'\u001b[39m:\n",
      "File \u001b[1;32m~\\Anaconda3\\lib\\site-packages\\PIL\\Image.py:2953\u001b[0m, in \u001b[0;36mopen\u001b[1;34m(fp, mode, formats)\u001b[0m\n\u001b[0;32m   2950\u001b[0m     filename \u001b[38;5;241m=\u001b[39m fp\n\u001b[0;32m   2952\u001b[0m \u001b[38;5;28;01mif\u001b[39;00m filename:\n\u001b[1;32m-> 2953\u001b[0m     fp \u001b[38;5;241m=\u001b[39m \u001b[43mbuiltins\u001b[49m\u001b[38;5;241;43m.\u001b[39;49m\u001b[43mopen\u001b[49m\u001b[43m(\u001b[49m\u001b[43mfilename\u001b[49m\u001b[43m,\u001b[49m\u001b[43m \u001b[49m\u001b[38;5;124;43m\"\u001b[39;49m\u001b[38;5;124;43mrb\u001b[39;49m\u001b[38;5;124;43m\"\u001b[39;49m\u001b[43m)\u001b[49m\n\u001b[0;32m   2954\u001b[0m     exclusive_fp \u001b[38;5;241m=\u001b[39m \u001b[38;5;28;01mTrue\u001b[39;00m\n\u001b[0;32m   2956\u001b[0m \u001b[38;5;28;01mtry\u001b[39;00m:\n",
      "\u001b[1;31mKeyboardInterrupt\u001b[0m: "
     ]
    }
   ],
   "source": [
    "import requests\n",
    "import os\n",
    "from PIL import Image\n",
    "import re\n",
    "\n",
    "# Tạo thư mục để lưu ảnh\n",
    "if not os.path.exists('images/Dress'):\n",
    "    os.makedirs('images/Dress')\n",
    "\n",
    "i = 0\n",
    "\n",
    "for image in images:\n",
    "    # Lấy URL của hình ảnh\n",
    "    image_url = image['data-src']\n",
    "\n",
    "    # Lấy tên tệp tin từ URL\n",
    "    image_filename = os.path.basename(image_url)\n",
    "    image_filename = re.sub(r'[?]', '_', image_filename)\n",
    "    image_filename = os.path.splitext(image_filename)[0] + '.jpg'\n",
    "\n",
    "    # Tạo URL tuyệt đối của hình ảnh\n",
    "    absolute_image_url = url + image_url\n",
    "\n",
    "    # Gửi yêu cầu GET đến URL của hình ảnh\n",
    "    image_response = requests.get(absolute_image_url)\n",
    "\n",
    "    if image_response.status_code == 200:\n",
    "        # Lưu hình ảnh xuống thư mục 'images/Dress'\n",
    "        image_path = os.path.join('images/Dress', image_filename)\n",
    "        \n",
    "        # Ghi nội dung của hình ảnh vào tệp tin\n",
    "        with open(image_path, 'wb') as f:\n",
    "            f.write(image_response.content)\n",
    "\n",
    "        try:\n",
    "            # Mở hình ảnh với Pillow\n",
    "            img = Image.open(image_path)\n",
    "\n",
    "            # Kiểm tra nếu định dạng không phải JPG thì chuyển đổi\n",
    "            if img.format != 'JPEG':\n",
    "                img = img.convert('RGB')\n",
    "                img.save(image_path, 'JPEG')\n",
    "                \n",
    "            print(f\"Lưu ảnh {image_filename} thành công.\")\n",
    "            i += 1\n",
    "        except (IOError, SyntaxError) as e:\n",
    "            os.remove(image_path)\n",
    "            print(f\"Lưu ảnh {image_filename} thất bại: {str(e)}\")\n",
    "            continue\n",
    "    else:\n",
    "        print(f\"Lưu ảnh {image_filename} thất bại.\")\n",
    "\n",
    "print(f\"Tổng số ảnh đã lưu: {i}\")\n"
   ]
  },
  {
   "cell_type": "code",
   "execution_count": null,
   "id": "e75d63ba-0bd0-427e-a3ad-4e3919ef98b2",
   "metadata": {},
   "outputs": [],
   "source": []
  }
 ],
 "metadata": {
  "kernelspec": {
   "display_name": "Python 3 (ipykernel)",
   "language": "python",
   "name": "python3"
  },
  "language_info": {
   "codemirror_mode": {
    "name": "ipython",
    "version": 3
   },
   "file_extension": ".py",
   "mimetype": "text/x-python",
   "name": "python",
   "nbconvert_exporter": "python",
   "pygments_lexer": "ipython3",
   "version": "3.9.12"
  }
 },
 "nbformat": 4,
 "nbformat_minor": 5
}
